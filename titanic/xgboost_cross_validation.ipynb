{
 "cells": [
  {
   "cell_type": "code",
   "execution_count": 1,
   "metadata": {},
   "outputs": [],
   "source": [
    "%matplotlib inline\n",
    "#import numpy as np\n",
    "import pandas as pd\n",
    "import xgboost as xgb"
   ]
  },
  {
   "cell_type": "code",
   "execution_count": 2,
   "metadata": {},
   "outputs": [],
   "source": [
    "from sklearn.datasets import load_iris\n",
    "\n",
    "iris = load_iris()\n",
    "\n",
    "iris_data = pd.DataFrame(iris.data, columns=iris.feature_names)\n",
    "iris_target = pd.Series(iris.target)"
   ]
  },
  {
   "cell_type": "code",
   "execution_count": 3,
   "metadata": {},
   "outputs": [],
   "source": [
    "dtrain = xgb.DMatrix(iris_data, label=iris_target)\n",
    "param = {'objective': 'multi:softmax', 'num_class': 3}\n",
    "num_round = 10"
   ]
  },
  {
   "cell_type": "code",
   "execution_count": null,
   "metadata": {},
   "outputs": [],
   "source": []
  },
  {
   "cell_type": "code",
   "execution_count": 4,
   "metadata": {},
   "outputs": [],
   "source": [
    "from sklearn.datasets import load_wine\n",
    "\n",
    "wine= load_wine()\n",
    "\n",
    "wine_data = pd.DataFrame(wine.data, columns=wine.feature_names)\n",
    "wine_target = pd.Series(wine.target)"
   ]
  },
  {
   "cell_type": "code",
   "execution_count": 5,
   "metadata": {},
   "outputs": [],
   "source": [
    "dtrain = xgb.DMatrix(wine_data, label=wine_target)\n",
    "param = {'objective': 'multi:softmax', 'num_class': 3}\n",
    "num_round = 10"
   ]
  },
  {
   "cell_type": "code",
   "execution_count": 6,
   "metadata": {},
   "outputs": [],
   "source": [
    "from sklearn.model_selection import train_test_split\n",
    "\n",
    "train_x, test_x, train_y, test_y = train_test_split(wine_data, wine_target, test_size=0.2, shuffle=True)"
   ]
  },
  {
   "cell_type": "code",
   "execution_count": 7,
   "metadata": {},
   "outputs": [],
   "source": [
    "dtrain = xgb.DMatrix(train_x, label=train_y)\n",
    "param = {'objective': 'multi:softmax', 'num_class': 3}\n",
    "num_round = 10"
   ]
  },
  {
   "cell_type": "code",
   "execution_count": 8,
   "metadata": {},
   "outputs": [
    {
     "name": "stdout",
     "output_type": "stream",
     "text": [
      "[0]\ttrain-merror:0.00705+0.00352\ttest-merror:0.04951+0.03662\n",
      "[1]\ttrain-merror:0.00175+0.00351\ttest-merror:0.04212+0.02628\n",
      "[2]\ttrain-merror:0.00000+0.00000\ttest-merror:0.04212+0.02628\n",
      "[3]\ttrain-merror:0.00000+0.00000\ttest-merror:0.04212+0.02628\n",
      "[4]\ttrain-merror:0.00000+0.00000\ttest-merror:0.04212+0.02628\n",
      "[5]\ttrain-merror:0.00000+0.00000\ttest-merror:0.04212+0.02628\n",
      "[6]\ttrain-merror:0.00000+0.00000\ttest-merror:0.04212+0.02628\n",
      "[7]\ttrain-merror:0.00000+0.00000\ttest-merror:0.04212+0.02628\n",
      "[8]\ttrain-merror:0.00000+0.00000\ttest-merror:0.03498+0.03140\n",
      "[9]\ttrain-merror:0.00000+0.00000\ttest-merror:0.03498+0.03140\n"
     ]
    }
   ],
   "source": [
    "history = xgb.cv(param, dtrain, num_round, nfold=5, verbose_eval=True)"
   ]
  },
  {
   "cell_type": "code",
   "execution_count": 9,
   "metadata": {},
   "outputs": [
    {
     "name": "stdout",
     "output_type": "stream",
     "text": [
      "score:0.9444\n"
     ]
    }
   ],
   "source": [
    "from sklearn.metrics import accuracy_score\n",
    "\n",
    "bst = xgb.train(param, dtrain, num_round)\n",
    "dtest = xgb.DMatrix(test_x)\n",
    "pred = bst.predict(dtest)\n",
    "\n",
    "score = accuracy_score(test_y, pred)\n",
    "print('score:{0:.4f}'.format(score))"
   ]
  },
  {
   "cell_type": "code",
   "execution_count": 10,
   "metadata": {},
   "outputs": [
    {
     "name": "stdout",
     "output_type": "stream",
     "text": [
      "[0]\ttrain-merror:0.00705+0.00352\ttest-merror:0.04951+0.03662\n",
      "[1]\ttrain-merror:0.00175+0.00351\ttest-merror:0.04212+0.02628\n",
      "[2]\ttrain-merror:0.00000+0.00000\ttest-merror:0.04212+0.02628\n",
      "[3]\ttrain-merror:0.00000+0.00000\ttest-merror:0.04212+0.02628\n",
      "[4]\ttrain-merror:0.00000+0.00000\ttest-merror:0.04212+0.02628\n",
      "[5]\ttrain-merror:0.00000+0.00000\ttest-merror:0.04212+0.02628\n",
      "[6]\ttrain-merror:0.00000+0.00000\ttest-merror:0.04212+0.02628\n",
      "[7]\ttrain-merror:0.00000+0.00000\ttest-merror:0.04212+0.02628\n",
      "[8]\ttrain-merror:0.00000+0.00000\ttest-merror:0.03498+0.03140\n",
      "[9]\ttrain-merror:0.00000+0.00000\ttest-merror:0.03498+0.03140\n",
      "[10]\ttrain-merror:0.00000+0.00000\ttest-merror:0.02808+0.02660\n",
      "[11]\ttrain-merror:0.00000+0.00000\ttest-merror:0.02094+0.01710\n",
      "[12]\ttrain-merror:0.00000+0.00000\ttest-merror:0.02094+0.01710\n",
      "[13]\ttrain-merror:0.00000+0.00000\ttest-merror:0.02094+0.01710\n",
      "[14]\ttrain-merror:0.00000+0.00000\ttest-merror:0.02094+0.01710\n",
      "[15]\ttrain-merror:0.00000+0.00000\ttest-merror:0.02094+0.01710\n",
      "[16]\ttrain-merror:0.00000+0.00000\ttest-merror:0.02094+0.01710\n",
      "[17]\ttrain-merror:0.00000+0.00000\ttest-merror:0.02094+0.01710\n",
      "[18]\ttrain-merror:0.00000+0.00000\ttest-merror:0.02094+0.01710\n",
      "[19]\ttrain-merror:0.00000+0.00000\ttest-merror:0.02094+0.01710\n",
      "[20]\ttrain-merror:0.00000+0.00000\ttest-merror:0.02094+0.01710\n"
     ]
    }
   ],
   "source": [
    "num_round = 100\n",
    "history = xgb.cv(param, dtrain, num_round, nfold=5, verbose_eval=True, \n",
    "                             early_stopping_rounds=10)"
   ]
  },
  {
   "cell_type": "code",
   "execution_count": 11,
   "metadata": {},
   "outputs": [
    {
     "name": "stdout",
     "output_type": "stream",
     "text": [
      "score:0.9444\n"
     ]
    }
   ],
   "source": [
    "from sklearn.metrics import accuracy_score\n",
    "\n",
    "num_round = len(history)\n",
    "bst = xgb.train(param, dtrain, num_round)\n",
    "\n",
    "dtest = xgb.DMatrix(test_x)\n",
    "pred = bst.predict(dtest)\n",
    "\n",
    "score = accuracy_score(test_y, pred)\n",
    "print('score:{0:.4f}'.format(score))"
   ]
  },
  {
   "cell_type": "code",
   "execution_count": 12,
   "metadata": {},
   "outputs": [
    {
     "name": "stdout",
     "output_type": "stream",
     "text": [
      "[0]\ttrain-merror:0.00528+0.00703\ttest-merror:0.05566+0.04114\n",
      "[1]\ttrain-merror:0.00000+0.00000\ttest-merror:0.03498+0.02182\n",
      "[2]\ttrain-merror:0.00000+0.00000\ttest-merror:0.03498+0.02182\n",
      "[3]\ttrain-merror:0.00000+0.00000\ttest-merror:0.03498+0.02182\n",
      "[4]\ttrain-merror:0.00000+0.00000\ttest-merror:0.04187+0.02568\n",
      "[5]\ttrain-merror:0.00000+0.00000\ttest-merror:0.03498+0.02182\n",
      "[6]\ttrain-merror:0.00000+0.00000\ttest-merror:0.03498+0.02182\n",
      "[7]\ttrain-merror:0.00000+0.00000\ttest-merror:0.02069+0.02759\n",
      "[8]\ttrain-merror:0.00000+0.00000\ttest-merror:0.03498+0.02182\n",
      "[9]\ttrain-merror:0.00000+0.00000\ttest-merror:0.03473+0.03085\n",
      "[10]\ttrain-merror:0.00000+0.00000\ttest-merror:0.03473+0.03085\n",
      "[11]\ttrain-merror:0.00000+0.00000\ttest-merror:0.04187+0.02568\n",
      "[12]\ttrain-merror:0.00000+0.00000\ttest-merror:0.04877+0.03498\n",
      "[13]\ttrain-merror:0.00000+0.00000\ttest-merror:0.04877+0.03498\n",
      "[14]\ttrain-merror:0.00000+0.00000\ttest-merror:0.04877+0.03498\n",
      "[15]\ttrain-merror:0.00000+0.00000\ttest-merror:0.04187+0.02568\n",
      "[16]\ttrain-merror:0.00000+0.00000\ttest-merror:0.04187+0.02568\n"
     ]
    }
   ],
   "source": [
    "num_round = 100  \n",
    "history = xgb.cv(param, dtrain, num_round, nfold=5, verbose_eval=True,   \n",
    "                 early_stopping_rounds=10, stratified=True, shuffle=True)"
   ]
  },
  {
   "cell_type": "code",
   "execution_count": 13,
   "metadata": {},
   "outputs": [
    {
     "name": "stdout",
     "output_type": "stream",
     "text": [
      "score:0.9167\n"
     ]
    }
   ],
   "source": [
    "from sklearn.metrics import accuracy_score\n",
    "\n",
    "num_round = len(history)\n",
    "bst = xgb.train(param, dtrain, num_round)\n",
    "\n",
    "dtest = xgb.DMatrix(test_x)\n",
    "pred = bst.predict(dtest)\n",
    "\n",
    "score = accuracy_score(test_y, pred)\n",
    "print('score:{0:.4f}'.format(score))"
   ]
  },
  {
   "cell_type": "code",
   "execution_count": 14,
   "metadata": {},
   "outputs": [
    {
     "name": "stdout",
     "output_type": "stream",
     "text": [
      "[0]\ttrain-mlogloss:0.74603\ttest-mlogloss:0.77374\n",
      "[1]\ttrain-mlogloss:0.53296\ttest-mlogloss:0.57882\n",
      "[2]\ttrain-mlogloss:0.39108\ttest-mlogloss:0.45350\n",
      "[3]\ttrain-mlogloss:0.29193\ttest-mlogloss:0.36476\n",
      "[4]\ttrain-mlogloss:0.22190\ttest-mlogloss:0.30080\n",
      "[5]\ttrain-mlogloss:0.17099\ttest-mlogloss:0.25646\n",
      "[6]\ttrain-mlogloss:0.13375\ttest-mlogloss:0.22110\n",
      "[7]\ttrain-mlogloss:0.10574\ttest-mlogloss:0.19394\n",
      "[8]\ttrain-mlogloss:0.08478\ttest-mlogloss:0.17409\n",
      "[9]\ttrain-mlogloss:0.06939\ttest-mlogloss:0.15982\n",
      "[10]\ttrain-mlogloss:0.05772\ttest-mlogloss:0.14958\n",
      "[11]\ttrain-mlogloss:0.04839\ttest-mlogloss:0.14064\n",
      "[12]\ttrain-mlogloss:0.04119\ttest-mlogloss:0.13477\n",
      "[13]\ttrain-mlogloss:0.03529\ttest-mlogloss:0.12927\n",
      "[14]\ttrain-mlogloss:0.03093\ttest-mlogloss:0.12453\n",
      "[15]\ttrain-mlogloss:0.02738\ttest-mlogloss:0.12241\n",
      "[16]\ttrain-mlogloss:0.02446\ttest-mlogloss:0.11831\n",
      "[17]\ttrain-mlogloss:0.02206\ttest-mlogloss:0.11624\n",
      "[18]\ttrain-mlogloss:0.02023\ttest-mlogloss:0.11394\n",
      "[19]\ttrain-mlogloss:0.01855\ttest-mlogloss:0.11359\n",
      "[20]\ttrain-mlogloss:0.01724\ttest-mlogloss:0.10965\n",
      "[21]\ttrain-mlogloss:0.01615\ttest-mlogloss:0.10840\n",
      "[22]\ttrain-mlogloss:0.01538\ttest-mlogloss:0.10696\n",
      "[23]\ttrain-mlogloss:0.01494\ttest-mlogloss:0.10552\n",
      "[24]\ttrain-mlogloss:0.01460\ttest-mlogloss:0.10424\n",
      "[25]\ttrain-mlogloss:0.01430\ttest-mlogloss:0.10451\n",
      "[26]\ttrain-mlogloss:0.01404\ttest-mlogloss:0.10418\n",
      "[27]\ttrain-mlogloss:0.01384\ttest-mlogloss:0.10440\n",
      "[28]\ttrain-mlogloss:0.01368\ttest-mlogloss:0.10417\n",
      "[29]\ttrain-mlogloss:0.01354\ttest-mlogloss:0.10482\n",
      "[30]\ttrain-mlogloss:0.01340\ttest-mlogloss:0.10399\n",
      "[31]\ttrain-mlogloss:0.01328\ttest-mlogloss:0.10399\n",
      "[32]\ttrain-mlogloss:0.01317\ttest-mlogloss:0.10356\n",
      "[33]\ttrain-mlogloss:0.01306\ttest-mlogloss:0.10419\n",
      "[34]\ttrain-mlogloss:0.01297\ttest-mlogloss:0.10410\n",
      "[35]\ttrain-mlogloss:0.01287\ttest-mlogloss:0.10316\n",
      "[36]\ttrain-mlogloss:0.01279\ttest-mlogloss:0.10254\n",
      "[37]\ttrain-mlogloss:0.01271\ttest-mlogloss:0.10233\n",
      "[38]\ttrain-mlogloss:0.01265\ttest-mlogloss:0.10211\n",
      "[39]\ttrain-mlogloss:0.01260\ttest-mlogloss:0.10154\n",
      "[40]\ttrain-mlogloss:0.01254\ttest-mlogloss:0.10185\n",
      "[41]\ttrain-mlogloss:0.01249\ttest-mlogloss:0.10186\n",
      "[42]\ttrain-mlogloss:0.01244\ttest-mlogloss:0.10194\n",
      "[43]\ttrain-mlogloss:0.01241\ttest-mlogloss:0.10194\n",
      "[44]\ttrain-mlogloss:0.01238\ttest-mlogloss:0.10214\n",
      "[45]\ttrain-mlogloss:0.01236\ttest-mlogloss:0.10190\n",
      "[46]\ttrain-mlogloss:0.01234\ttest-mlogloss:0.10166\n",
      "[47]\ttrain-mlogloss:0.01233\ttest-mlogloss:0.10186\n",
      "[48]\ttrain-mlogloss:0.01232\ttest-mlogloss:0.10179\n"
     ]
    }
   ],
   "source": [
    "num_round = 100  \n",
    "history = xgb.cv(param, dtrain, num_round, nfold=5, verbose_eval=True,   \n",
    "                 early_stopping_rounds=10, stratified=True, shuffle=True,\n",
    "                 metrics=('mlogloss'), show_stdv=False)"
   ]
  },
  {
   "cell_type": "code",
   "execution_count": 15,
   "metadata": {},
   "outputs": [
    {
     "name": "stdout",
     "output_type": "stream",
     "text": [
      "score:0.9444\n"
     ]
    }
   ],
   "source": [
    "from sklearn.metrics import accuracy_score\n",
    "\n",
    "num_round = len(history)\n",
    "bst = xgb.train(param, dtrain, num_round)\n",
    "\n",
    "dtest = xgb.DMatrix(test_x)\n",
    "pred = bst.predict(dtest)\n",
    "\n",
    "score = accuracy_score(test_y, pred)\n",
    "print('score:{0:.4f}'.format(score))"
   ]
  }
 ],
 "metadata": {
  "kernelspec": {
   "display_name": "Python 3",
   "language": "python",
   "name": "python3"
  },
  "language_info": {
   "codemirror_mode": {
    "name": "ipython",
    "version": 3
   },
   "file_extension": ".py",
   "mimetype": "text/x-python",
   "name": "python",
   "nbconvert_exporter": "python",
   "pygments_lexer": "ipython3",
   "version": "3.7.6"
  }
 },
 "nbformat": 4,
 "nbformat_minor": 4
}
