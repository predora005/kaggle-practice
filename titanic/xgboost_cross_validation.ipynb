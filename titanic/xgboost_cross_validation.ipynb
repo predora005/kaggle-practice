{
 "cells": [
  {
   "cell_type": "code",
   "execution_count": 1,
   "metadata": {},
   "outputs": [],
   "source": [
    "%matplotlib inline\n",
    "#import numpy as np\n",
    "import pandas as pd\n",
    "import xgboost as xgb"
   ]
  },
  {
   "cell_type": "code",
   "execution_count": 2,
   "metadata": {},
   "outputs": [],
   "source": [
    "from sklearn.datasets import load_iris\n",
    "\n",
    "iris = load_iris()\n",
    "\n",
    "iris_data = pd.DataFrame(iris.data, columns=iris.feature_names)\n",
    "iris_target = pd.Series(iris.target)"
   ]
  },
  {
   "cell_type": "code",
   "execution_count": 3,
   "metadata": {},
   "outputs": [],
   "source": [
    "from sklearn.datasets import load_wine\n",
    "\n",
    "wine= load_wine()\n",
    "\n",
    "wine_data = pd.DataFrame(wine.data, columns=wine.feature_names)\n",
    "wine_target = pd.Series(wine.target)"
   ]
  },
  {
   "cell_type": "code",
   "execution_count": 4,
   "metadata": {},
   "outputs": [],
   "source": [
    "#from sklearn.datasets import fetch_covtype\n",
    "\n",
    "#forest_tree = fetch_covtype(data_home='/home/jupyter/scikit_learn_data/', download_if_missing=True)\n",
    "\n",
    "#forest_tree_data = pd.DataFrame(forest_tree.data, columns=forest_tree.DESCR)\n",
    "#forest_tree_data = pd.DataFrame(forest_tree.data)\n",
    "#forest_tree_target = pd.Series(forest_tree.target)"
   ]
  },
  {
   "cell_type": "code",
   "execution_count": 5,
   "metadata": {},
   "outputs": [],
   "source": [
    "dtrain = xgb.DMatrix(iris_data, label=iris_target)\n",
    "param = {'objective': 'multi:softmax', 'num_class': 3}\n",
    "num_round = 10"
   ]
  },
  {
   "cell_type": "code",
   "execution_count": 6,
   "metadata": {},
   "outputs": [],
   "source": [
    "dtrain = xgb.DMatrix(wine_data, label=wine_target)\n",
    "param = {'objective': 'multi:softmax', 'num_class': 3}\n",
    "num_round = 10"
   ]
  },
  {
   "cell_type": "code",
   "execution_count": 7,
   "metadata": {},
   "outputs": [],
   "source": [
    "from sklearn.model_selection import train_test_split\n",
    "\n",
    "train_x, test_x, train_y, test_y = train_test_split(wine_data, wine_target, test_size=0.2, shuffle=True)"
   ]
  },
  {
   "cell_type": "code",
   "execution_count": 8,
   "metadata": {},
   "outputs": [],
   "source": [
    "#dtrain = xgb.DMatrix(train_x, label=forest_tree_target)\n",
    "dtrain = xgb.DMatrix(train_x, label=train_y)\n",
    "param = {'objective': 'multi:softmax', 'num_class': 3}\n",
    "num_round = 10"
   ]
  },
  {
   "cell_type": "code",
   "execution_count": 9,
   "metadata": {},
   "outputs": [
    {
     "name": "stdout",
     "output_type": "stream",
     "text": [
      "[0]\ttrain-merror:0.00000+0.00000\ttest-merror:0.08424+0.03510\n",
      "[1]\ttrain-merror:0.00000+0.00000\ttest-merror:0.05591+0.04755\n",
      "[2]\ttrain-merror:0.00000+0.00000\ttest-merror:0.04877+0.04164\n",
      "[3]\ttrain-merror:0.00000+0.00000\ttest-merror:0.04877+0.04164\n",
      "[4]\ttrain-merror:0.00000+0.00000\ttest-merror:0.04877+0.04164\n",
      "[5]\ttrain-merror:0.00000+0.00000\ttest-merror:0.04877+0.04164\n",
      "[6]\ttrain-merror:0.00000+0.00000\ttest-merror:0.04163+0.04017\n",
      "[7]\ttrain-merror:0.00000+0.00000\ttest-merror:0.03473+0.03085\n",
      "[8]\ttrain-merror:0.00000+0.00000\ttest-merror:0.03473+0.03085\n",
      "[9]\ttrain-merror:0.00000+0.00000\ttest-merror:0.03473+0.03085\n"
     ]
    }
   ],
   "source": [
    "history = xgb.cv(param, dtrain, num_round, nfold=5, verbose_eval=True)"
   ]
  },
  {
   "cell_type": "code",
   "execution_count": 10,
   "metadata": {},
   "outputs": [
    {
     "name": "stdout",
     "output_type": "stream",
     "text": [
      "score:0.9444\n"
     ]
    }
   ],
   "source": [
    "from sklearn.metrics import accuracy_score\n",
    "\n",
    "bst = xgb.train(param, dtrain, num_round)\n",
    "\n",
    "dtest = xgb.DMatrix(test_x)\n",
    "pred = bst.predict(dtest)\n",
    "\n",
    "score = accuracy_score(test_y, pred)\n",
    "print('score:{0:.4f}'.format(score))"
   ]
  },
  {
   "cell_type": "code",
   "execution_count": 11,
   "metadata": {},
   "outputs": [
    {
     "name": "stdout",
     "output_type": "stream",
     "text": [
      "[0]\ttrain-merror:0.00000+0.00000\ttest-merror:0.08424+0.03510\n",
      "[1]\ttrain-merror:0.00000+0.00000\ttest-merror:0.05591+0.04755\n",
      "[2]\ttrain-merror:0.00000+0.00000\ttest-merror:0.04877+0.04164\n",
      "[3]\ttrain-merror:0.00000+0.00000\ttest-merror:0.04877+0.04164\n",
      "[4]\ttrain-merror:0.00000+0.00000\ttest-merror:0.04877+0.04164\n",
      "[5]\ttrain-merror:0.00000+0.00000\ttest-merror:0.04877+0.04164\n",
      "[6]\ttrain-merror:0.00000+0.00000\ttest-merror:0.04163+0.04017\n",
      "[7]\ttrain-merror:0.00000+0.00000\ttest-merror:0.03473+0.03085\n",
      "[8]\ttrain-merror:0.00000+0.00000\ttest-merror:0.03473+0.03085\n",
      "[9]\ttrain-merror:0.00000+0.00000\ttest-merror:0.03473+0.03085\n",
      "[10]\ttrain-merror:0.00000+0.00000\ttest-merror:0.03473+0.03085\n",
      "[11]\ttrain-merror:0.00000+0.00000\ttest-merror:0.03473+0.03085\n",
      "[12]\ttrain-merror:0.00000+0.00000\ttest-merror:0.03473+0.03085\n",
      "[13]\ttrain-merror:0.00000+0.00000\ttest-merror:0.02783+0.02588\n",
      "[14]\ttrain-merror:0.00000+0.00000\ttest-merror:0.02783+0.02588\n",
      "[15]\ttrain-merror:0.00000+0.00000\ttest-merror:0.02783+0.02588\n",
      "[16]\ttrain-merror:0.00000+0.00000\ttest-merror:0.02783+0.02588\n",
      "[17]\ttrain-merror:0.00000+0.00000\ttest-merror:0.02783+0.02588\n",
      "[18]\ttrain-merror:0.00000+0.00000\ttest-merror:0.02783+0.02588\n",
      "[19]\ttrain-merror:0.00000+0.00000\ttest-merror:0.02783+0.02588\n",
      "[20]\ttrain-merror:0.00000+0.00000\ttest-merror:0.02783+0.02588\n",
      "[21]\ttrain-merror:0.00000+0.00000\ttest-merror:0.02783+0.02588\n",
      "[22]\ttrain-merror:0.00000+0.00000\ttest-merror:0.02783+0.02588\n"
     ]
    }
   ],
   "source": [
    "num_round = 100\n",
    "history = xgb.cv(param, dtrain, num_round, nfold=5, verbose_eval=True, \n",
    "                             early_stopping_rounds=10, shuffle=True)"
   ]
  },
  {
   "cell_type": "code",
   "execution_count": 12,
   "metadata": {},
   "outputs": [
    {
     "name": "stdout",
     "output_type": "stream",
     "text": [
      "score:0.9444\n"
     ]
    }
   ],
   "source": [
    "from sklearn.metrics import accuracy_score\n",
    "\n",
    "num_round = len(history)\n",
    "bst = xgb.train(param, dtrain, num_round)\n",
    "\n",
    "dtest = xgb.DMatrix(test_x)\n",
    "pred = bst.predict(dtest)\n",
    "\n",
    "score = accuracy_score(test_y, pred)\n",
    "print('score:{0:.4f}'.format(score))"
   ]
  },
  {
   "cell_type": "code",
   "execution_count": null,
   "metadata": {},
   "outputs": [],
   "source": []
  }
 ],
 "metadata": {
  "kernelspec": {
   "display_name": "Python 3",
   "language": "python",
   "name": "python3"
  },
  "language_info": {
   "codemirror_mode": {
    "name": "ipython",
    "version": 3
   },
   "file_extension": ".py",
   "mimetype": "text/x-python",
   "name": "python",
   "nbconvert_exporter": "python",
   "pygments_lexer": "ipython3",
   "version": "3.7.6"
  }
 },
 "nbformat": 4,
 "nbformat_minor": 4
}
