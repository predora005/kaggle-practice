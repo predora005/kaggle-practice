{
 "cells": [
  {
   "cell_type": "code",
   "execution_count": 19,
   "metadata": {},
   "outputs": [],
   "source": [
    "%matplotlib inline\n",
    "import pandas as pd\n",
    "import xgboost as xgb"
   ]
  },
  {
   "cell_type": "code",
   "execution_count": 20,
   "metadata": {},
   "outputs": [],
   "source": [
    "from sklearn.datasets import load_iris\n",
    "\n",
    "iris = load_iris()\n",
    "\n",
    "iris_data = pd.DataFrame(iris.data, columns=iris.feature_names)\n",
    "iris_target = pd.Series(iris.target)"
   ]
  },
  {
   "cell_type": "code",
   "execution_count": 21,
   "metadata": {},
   "outputs": [],
   "source": [
    "from sklearn.model_selection import train_test_split\n",
    "\n",
    "train_x, test_x, train_y, test_y = train_test_split(iris_data, iris_target, test_size=0.8, shuffle=True)"
   ]
  },
  {
   "cell_type": "code",
   "execution_count": 22,
   "metadata": {},
   "outputs": [],
   "source": [
    "params = {'eta': [0.01, 0.1, 1.0], 'gamma': [0], \n",
    "                  'n_estimators': [100], 'max_depth':[2], 'min_child_weigh': [1], \n",
    "                  'nthread': [2] }"
   ]
  },
  {
   "cell_type": "code",
   "execution_count": 23,
   "metadata": {},
   "outputs": [
    {
     "name": "stdout",
     "output_type": "stream",
     "text": [
      "Fitting 5 folds for each of 3 candidates, totalling 15 fits\n",
      "[CV] eta=0.01, gamma=0, max_depth=2, min_child_weigh=1, n_estimators=100, nthread=2 \n",
      "[CV]  eta=0.01, gamma=0, max_depth=2, min_child_weigh=1, n_estimators=100, nthread=2, score=1.000, total=   0.0s\n",
      "[CV] eta=0.01, gamma=0, max_depth=2, min_child_weigh=1, n_estimators=100, nthread=2 \n",
      "[CV]  eta=0.01, gamma=0, max_depth=2, min_child_weigh=1, n_estimators=100, nthread=2, score=0.833, total=   0.0s\n",
      "[CV] eta=0.01, gamma=0, max_depth=2, min_child_weigh=1, n_estimators=100, nthread=2 \n",
      "[CV]  eta=0.01, gamma=0, max_depth=2, min_child_weigh=1, n_estimators=100, nthread=2, score=1.000, total=   0.0s\n",
      "[CV] eta=0.01, gamma=0, max_depth=2, min_child_weigh=1, n_estimators=100, nthread=2 \n",
      "[CV]  eta=0.01, gamma=0, max_depth=2, min_child_weigh=1, n_estimators=100, nthread=2, score=1.000, total=   0.0s\n",
      "[CV] eta=0.01, gamma=0, max_depth=2, min_child_weigh=1, n_estimators=100, nthread=2 \n",
      "[CV]  eta=0.01, gamma=0, max_depth=2, min_child_weigh=1, n_estimators=100, nthread=2, score=1.000, total=   0.0s\n",
      "[CV] eta=0.1, gamma=0, max_depth=2, min_child_weigh=1, n_estimators=100, nthread=2 \n",
      "[CV]  eta=0.1, gamma=0, max_depth=2, min_child_weigh=1, n_estimators=100, nthread=2, score=1.000, total=   0.0s\n",
      "[CV] eta=0.1, gamma=0, max_depth=2, min_child_weigh=1, n_estimators=100, nthread=2 \n",
      "[CV]  eta=0.1, gamma=0, max_depth=2, min_child_weigh=1, n_estimators=100, nthread=2, score=0.833, total=   0.0s\n",
      "[CV] eta=0.1, gamma=0, max_depth=2, min_child_weigh=1, n_estimators=100, nthread=2 \n"
     ]
    },
    {
     "name": "stderr",
     "output_type": "stream",
     "text": [
      "[Parallel(n_jobs=1)]: Using backend SequentialBackend with 1 concurrent workers.\n",
      "[Parallel(n_jobs=1)]: Done   1 out of   1 | elapsed:    0.0s remaining:    0.0s\n",
      "[Parallel(n_jobs=1)]: Done   2 out of   2 | elapsed:    0.0s remaining:    0.0s\n"
     ]
    },
    {
     "name": "stdout",
     "output_type": "stream",
     "text": [
      "[CV]  eta=0.1, gamma=0, max_depth=2, min_child_weigh=1, n_estimators=100, nthread=2, score=1.000, total=   0.0s\n",
      "[CV] eta=0.1, gamma=0, max_depth=2, min_child_weigh=1, n_estimators=100, nthread=2 \n",
      "[CV]  eta=0.1, gamma=0, max_depth=2, min_child_weigh=1, n_estimators=100, nthread=2, score=1.000, total=   0.0s\n",
      "[CV] eta=0.1, gamma=0, max_depth=2, min_child_weigh=1, n_estimators=100, nthread=2 \n",
      "[CV]  eta=0.1, gamma=0, max_depth=2, min_child_weigh=1, n_estimators=100, nthread=2, score=1.000, total=   0.0s\n",
      "[CV] eta=1.0, gamma=0, max_depth=2, min_child_weigh=1, n_estimators=100, nthread=2 \n",
      "[CV]  eta=1.0, gamma=0, max_depth=2, min_child_weigh=1, n_estimators=100, nthread=2, score=1.000, total=   0.0s\n",
      "[CV] eta=1.0, gamma=0, max_depth=2, min_child_weigh=1, n_estimators=100, nthread=2 \n",
      "[CV]  eta=1.0, gamma=0, max_depth=2, min_child_weigh=1, n_estimators=100, nthread=2, score=0.833, total=   0.0s\n",
      "[CV] eta=1.0, gamma=0, max_depth=2, min_child_weigh=1, n_estimators=100, nthread=2 \n",
      "[CV]  eta=1.0, gamma=0, max_depth=2, min_child_weigh=1, n_estimators=100, nthread=2, score=1.000, total=   0.0s\n",
      "[CV] eta=1.0, gamma=0, max_depth=2, min_child_weigh=1, n_estimators=100, nthread=2 \n",
      "[CV]  eta=1.0, gamma=0, max_depth=2, min_child_weigh=1, n_estimators=100, nthread=2, score=1.000, total=   0.0s\n",
      "[CV] eta=1.0, gamma=0, max_depth=2, min_child_weigh=1, n_estimators=100, nthread=2 \n",
      "[CV]  eta=1.0, gamma=0, max_depth=2, min_child_weigh=1, n_estimators=100, nthread=2, score=1.000, total=   0.0s\n"
     ]
    },
    {
     "name": "stderr",
     "output_type": "stream",
     "text": [
      "[Parallel(n_jobs=1)]: Done  15 out of  15 | elapsed:    0.4s finished\n"
     ]
    },
    {
     "data": {
      "text/plain": [
       "GridSearchCV(cv=StratifiedKFold(n_splits=5, random_state=1, shuffle=True),\n",
       "             error_score=nan,\n",
       "             estimator=XGBClassifier(base_score=None, booster=None,\n",
       "                                     colsample_bylevel=None,\n",
       "                                     colsample_bynode=None,\n",
       "                                     colsample_bytree=None, gamma=None,\n",
       "                                     gpu_id=None, importance_type='gain',\n",
       "                                     interaction_constraints=None,\n",
       "                                     learning_rate=None, max_delta_step=None,\n",
       "                                     max_depth=None, min_child_wei...\n",
       "                                     random_state=None, reg_alpha=None,\n",
       "                                     reg_lambda=None, scale_pos_weight=None,\n",
       "                                     subsample=None, tree_method=None,\n",
       "                                     validate_parameters=False,\n",
       "                                     verbosity=None),\n",
       "             iid='deprecated', n_jobs=1,\n",
       "             param_grid={'eta': [0.01, 0.1, 1.0], 'gamma': [0],\n",
       "                         'max_depth': [2], 'min_child_weigh': [1],\n",
       "                         'n_estimators': [100], 'nthread': [2]},\n",
       "             pre_dispatch='2*n_jobs', refit=True, return_train_score=False,\n",
       "             scoring='accuracy', verbose=3)"
      ]
     },
     "execution_count": 23,
     "metadata": {},
     "output_type": "execute_result"
    }
   ],
   "source": [
    "import xgboost as xgb\n",
    "from sklearn.model_selection import StratifiedKFold, GridSearchCV\n",
    "\n",
    "model = xgb.XGBClassifier()\n",
    "skf = StratifiedKFold(n_splits=5, shuffle=True, random_state=1)\n",
    "clf = GridSearchCV(estimator=model, param_grid=params, cv=skf, scoring=\"accuracy\", n_jobs=1, verbose=3)\n",
    "clf.fit(train_x, train_y)"
   ]
  },
  {
   "cell_type": "code",
   "execution_count": 24,
   "metadata": {},
   "outputs": [
    {
     "name": "stdout",
     "output_type": "stream",
     "text": [
      "[0.96666667 0.96666667 0.96666667]\n"
     ]
    }
   ],
   "source": [
    "print(clf.cv_results_['mean_test_score'])"
   ]
  },
  {
   "cell_type": "code",
   "execution_count": 25,
   "metadata": {},
   "outputs": [
    {
     "name": "stdout",
     "output_type": "stream",
     "text": [
      "score: 0.967 +/-0.1333, params: {'eta': 0.01, 'gamma': 0, 'max_depth': 2, 'min_child_weigh': 1, 'n_estimators': 100, 'nthread': 2}\n",
      "score: 0.967 +/-0.1333, params: {'eta': 0.1, 'gamma': 0, 'max_depth': 2, 'min_child_weigh': 1, 'n_estimators': 100, 'nthread': 2}\n",
      "score: 0.967 +/-0.1333, params: {'eta': 1.0, 'gamma': 0, 'max_depth': 2, 'min_child_weigh': 1, 'n_estimators': 100, 'nthread': 2}\n"
     ]
    }
   ],
   "source": [
    "means = clf.cv_results_['mean_test_score']\n",
    "stds = clf.cv_results_['std_test_score']\n",
    "params = clf.cv_results_['params']\n",
    "\n",
    "df = pd.DataFrame(data=zip(means, stds, params), columns=['mean', 'std', 'params'])\n",
    "df = df.sort_values('std', ascending=True)\n",
    "df = df.sort_values('mean', ascending=False)\n",
    "\n",
    "for index, row in df.iterrows():\n",
    "    print(\"score: %.3f +/-%.4f, params: %r\" % (row['mean'], row['std']*2, row['params']))"
   ]
  },
  {
   "cell_type": "code",
   "execution_count": 26,
   "metadata": {},
   "outputs": [
    {
     "name": "stdout",
     "output_type": "stream",
     "text": [
      "Best score: 0.9667\n",
      "{'eta': 0.01, 'gamma': 0, 'max_depth': 2, 'min_child_weigh': 1, 'n_estimators': 100, 'nthread': 2}\n"
     ]
    }
   ],
   "source": [
    "print(\"Best score: %.4f\" % (clf.best_score_))\n",
    "print(clf.best_params_)"
   ]
  },
  {
   "cell_type": "code",
   "execution_count": 27,
   "metadata": {},
   "outputs": [
    {
     "name": "stdout",
     "output_type": "stream",
     "text": [
      "score:0.9417\n"
     ]
    }
   ],
   "source": [
    "from sklearn.metrics import accuracy_score\n",
    "\n",
    "model = clf.best_estimator_\n",
    "pred = model.predict(test_x)\n",
    "score = accuracy_score(test_y, pred)\n",
    "print('score:{0:.4f}'.format(score))"
   ]
  },
  {
   "cell_type": "code",
   "execution_count": null,
   "metadata": {},
   "outputs": [],
   "source": []
  },
  {
   "cell_type": "code",
   "execution_count": 28,
   "metadata": {},
   "outputs": [],
   "source": [
    "params = {'eta': [0.1], 'gamma': [0], \n",
    "                  'n_estimators': [50, 100, 200], 'max_depth':[2], 'min_child_weigh': [1], \n",
    "                  'nthread': [2] }"
   ]
  },
  {
   "cell_type": "code",
   "execution_count": 29,
   "metadata": {},
   "outputs": [
    {
     "name": "stdout",
     "output_type": "stream",
     "text": [
      "Fitting 5 folds for each of 3 candidates, totalling 15 fits\n",
      "[CV] eta=0.1, gamma=0, max_depth=2, min_child_weigh=1, n_estimators=50, nthread=2 \n",
      "[CV]  eta=0.1, gamma=0, max_depth=2, min_child_weigh=1, n_estimators=50, nthread=2, score=1.000, total=   0.0s\n",
      "[CV] eta=0.1, gamma=0, max_depth=2, min_child_weigh=1, n_estimators=50, nthread=2 \n",
      "[CV]  eta=0.1, gamma=0, max_depth=2, min_child_weigh=1, n_estimators=50, nthread=2, score=0.833, total=   0.0s\n",
      "[CV] eta=0.1, gamma=0, max_depth=2, min_child_weigh=1, n_estimators=50, nthread=2 \n",
      "[CV]  eta=0.1, gamma=0, max_depth=2, min_child_weigh=1, n_estimators=50, nthread=2, score=1.000, total=   0.0s\n",
      "[CV] eta=0.1, gamma=0, max_depth=2, min_child_weigh=1, n_estimators=50, nthread=2 \n",
      "[CV]  eta=0.1, gamma=0, max_depth=2, min_child_weigh=1, n_estimators=50, nthread=2, score=1.000, total=   0.0s\n",
      "[CV] eta=0.1, gamma=0, max_depth=2, min_child_weigh=1, n_estimators=50, nthread=2 \n",
      "[CV]  eta=0.1, gamma=0, max_depth=2, min_child_weigh=1, n_estimators=50, nthread=2, score=1.000, total=   0.0s\n",
      "[CV] eta=0.1, gamma=0, max_depth=2, min_child_weigh=1, n_estimators=100, nthread=2 \n",
      "[CV]  eta=0.1, gamma=0, max_depth=2, min_child_weigh=1, n_estimators=100, nthread=2, score=1.000, total=   0.0s\n",
      "[CV] eta=0.1, gamma=0, max_depth=2, min_child_weigh=1, n_estimators=100, nthread=2 \n",
      "[CV]  eta=0.1, gamma=0, max_depth=2, min_child_weigh=1, n_estimators=100, nthread=2, score=0.833, total=   0.0s\n",
      "[CV] eta=0.1, gamma=0, max_depth=2, min_child_weigh=1, n_estimators=100, nthread=2 \n"
     ]
    },
    {
     "name": "stderr",
     "output_type": "stream",
     "text": [
      "[Parallel(n_jobs=1)]: Using backend SequentialBackend with 1 concurrent workers.\n",
      "[Parallel(n_jobs=1)]: Done   1 out of   1 | elapsed:    0.0s remaining:    0.0s\n",
      "[Parallel(n_jobs=1)]: Done   2 out of   2 | elapsed:    0.0s remaining:    0.0s\n"
     ]
    },
    {
     "name": "stdout",
     "output_type": "stream",
     "text": [
      "[CV]  eta=0.1, gamma=0, max_depth=2, min_child_weigh=1, n_estimators=100, nthread=2, score=1.000, total=   0.1s\n",
      "[CV] eta=0.1, gamma=0, max_depth=2, min_child_weigh=1, n_estimators=100, nthread=2 \n",
      "[CV]  eta=0.1, gamma=0, max_depth=2, min_child_weigh=1, n_estimators=100, nthread=2, score=1.000, total=   0.0s\n",
      "[CV] eta=0.1, gamma=0, max_depth=2, min_child_weigh=1, n_estimators=100, nthread=2 \n",
      "[CV]  eta=0.1, gamma=0, max_depth=2, min_child_weigh=1, n_estimators=100, nthread=2, score=1.000, total=   0.0s\n",
      "[CV] eta=0.1, gamma=0, max_depth=2, min_child_weigh=1, n_estimators=200, nthread=2 \n",
      "[CV]  eta=0.1, gamma=0, max_depth=2, min_child_weigh=1, n_estimators=200, nthread=2, score=1.000, total=   0.1s\n",
      "[CV] eta=0.1, gamma=0, max_depth=2, min_child_weigh=1, n_estimators=200, nthread=2 \n",
      "[CV]  eta=0.1, gamma=0, max_depth=2, min_child_weigh=1, n_estimators=200, nthread=2, score=0.833, total=   0.1s\n",
      "[CV] eta=0.1, gamma=0, max_depth=2, min_child_weigh=1, n_estimators=200, nthread=2 \n",
      "[CV]  eta=0.1, gamma=0, max_depth=2, min_child_weigh=1, n_estimators=200, nthread=2, score=1.000, total=   0.0s\n",
      "[CV] eta=0.1, gamma=0, max_depth=2, min_child_weigh=1, n_estimators=200, nthread=2 \n",
      "[CV]  eta=0.1, gamma=0, max_depth=2, min_child_weigh=1, n_estimators=200, nthread=2, score=1.000, total=   0.1s\n",
      "[CV] eta=0.1, gamma=0, max_depth=2, min_child_weigh=1, n_estimators=200, nthread=2 \n",
      "[CV]  eta=0.1, gamma=0, max_depth=2, min_child_weigh=1, n_estimators=200, nthread=2, score=1.000, total=   0.0s\n"
     ]
    },
    {
     "name": "stderr",
     "output_type": "stream",
     "text": [
      "[Parallel(n_jobs=1)]: Done  15 out of  15 | elapsed:    0.6s finished\n"
     ]
    },
    {
     "data": {
      "text/plain": [
       "GridSearchCV(cv=StratifiedKFold(n_splits=5, random_state=1, shuffle=True),\n",
       "             error_score=nan,\n",
       "             estimator=XGBClassifier(base_score=None, booster=None,\n",
       "                                     colsample_bylevel=None,\n",
       "                                     colsample_bynode=None,\n",
       "                                     colsample_bytree=None, gamma=None,\n",
       "                                     gpu_id=None, importance_type='gain',\n",
       "                                     interaction_constraints=None,\n",
       "                                     learning_rate=None, max_delta_step=None,\n",
       "                                     max_depth=None, min_child_wei...\n",
       "                                     random_state=None, reg_alpha=None,\n",
       "                                     reg_lambda=None, scale_pos_weight=None,\n",
       "                                     subsample=None, tree_method=None,\n",
       "                                     validate_parameters=False,\n",
       "                                     verbosity=None),\n",
       "             iid='deprecated', n_jobs=1,\n",
       "             param_grid={'eta': [0.1], 'gamma': [0], 'max_depth': [2],\n",
       "                         'min_child_weigh': [1], 'n_estimators': [50, 100, 200],\n",
       "                         'nthread': [2]},\n",
       "             pre_dispatch='2*n_jobs', refit=True, return_train_score=False,\n",
       "             scoring='accuracy', verbose=3)"
      ]
     },
     "execution_count": 29,
     "metadata": {},
     "output_type": "execute_result"
    }
   ],
   "source": [
    "import xgboost as xgb\n",
    "from sklearn.model_selection import StratifiedKFold, GridSearchCV\n",
    "\n",
    "model = xgb.XGBClassifier()\n",
    "skf = StratifiedKFold(n_splits=5, shuffle=True, random_state=1)\n",
    "clf = GridSearchCV(estimator=model, param_grid=params, cv=skf, scoring=\"accuracy\", n_jobs=1, verbose=3)\n",
    "clf.fit(train_x, train_y)"
   ]
  },
  {
   "cell_type": "code",
   "execution_count": 30,
   "metadata": {},
   "outputs": [
    {
     "name": "stdout",
     "output_type": "stream",
     "text": [
      "score: 0.967 +/-0.1333, params: {'eta': 0.1, 'gamma': 0, 'max_depth': 2, 'min_child_weigh': 1, 'n_estimators': 50, 'nthread': 2}\n",
      "score: 0.967 +/-0.1333, params: {'eta': 0.1, 'gamma': 0, 'max_depth': 2, 'min_child_weigh': 1, 'n_estimators': 100, 'nthread': 2}\n",
      "score: 0.967 +/-0.1333, params: {'eta': 0.1, 'gamma': 0, 'max_depth': 2, 'min_child_weigh': 1, 'n_estimators': 200, 'nthread': 2}\n"
     ]
    }
   ],
   "source": [
    "means = clf.cv_results_['mean_test_score']\n",
    "stds = clf.cv_results_['std_test_score']\n",
    "params = clf.cv_results_['params']\n",
    "\n",
    "df = pd.DataFrame(data=zip(means, stds, params), columns=['mean', 'std', 'params'])\n",
    "df = df.sort_values('std', ascending=True)\n",
    "df = df.sort_values('mean', ascending=False)\n",
    "\n",
    "for index, row in df.iterrows():\n",
    "    print(\"score: %.3f +/-%.4f, params: %r\" % (row['mean'], row['std']*2, row['params']))"
   ]
  },
  {
   "cell_type": "code",
   "execution_count": 31,
   "metadata": {},
   "outputs": [
    {
     "name": "stdout",
     "output_type": "stream",
     "text": [
      "Best score: 0.9667\n",
      "{'eta': 0.1, 'gamma': 0, 'max_depth': 2, 'min_child_weigh': 1, 'n_estimators': 50, 'nthread': 2}\n"
     ]
    }
   ],
   "source": [
    "print(\"Best score: %.4f\" % (clf.best_score_))\n",
    "print(clf.best_params_)"
   ]
  },
  {
   "cell_type": "code",
   "execution_count": 32,
   "metadata": {},
   "outputs": [
    {
     "name": "stdout",
     "output_type": "stream",
     "text": [
      "score:0.9417\n"
     ]
    }
   ],
   "source": [
    "from sklearn.metrics import accuracy_score\n",
    "\n",
    "model = clf.best_estimator_\n",
    "pred = model.predict(test_x)\n",
    "score = accuracy_score(test_y, pred)\n",
    "print('score:{0:.4f}'.format(score))"
   ]
  },
  {
   "cell_type": "code",
   "execution_count": null,
   "metadata": {},
   "outputs": [],
   "source": []
  },
  {
   "cell_type": "code",
   "execution_count": 33,
   "metadata": {},
   "outputs": [],
   "source": [
    "params = {'eta': [0.1], 'gamma': [0, 0.1, 0.2], \n",
    "                  'n_estimators': [50], 'max_depth':[2, 4], 'min_child_weigh': [1, 2], \n",
    "                  'nthread': [2] }"
   ]
  },
  {
   "cell_type": "code",
   "execution_count": 34,
   "metadata": {},
   "outputs": [
    {
     "name": "stdout",
     "output_type": "stream",
     "text": [
      "Fitting 5 folds for each of 12 candidates, totalling 60 fits\n",
      "[CV] eta=0.1, gamma=0, max_depth=2, min_child_weigh=1, n_estimators=50, nthread=2 \n",
      "[CV]  eta=0.1, gamma=0, max_depth=2, min_child_weigh=1, n_estimators=50, nthread=2, score=1.000, total=   0.0s\n",
      "[CV] eta=0.1, gamma=0, max_depth=2, min_child_weigh=1, n_estimators=50, nthread=2 \n",
      "[CV]  eta=0.1, gamma=0, max_depth=2, min_child_weigh=1, n_estimators=50, nthread=2, score=0.833, total=   0.0s\n",
      "[CV] eta=0.1, gamma=0, max_depth=2, min_child_weigh=1, n_estimators=50, nthread=2 \n",
      "[CV]  eta=0.1, gamma=0, max_depth=2, min_child_weigh=1, n_estimators=50, nthread=2, score=1.000, total=   0.0s\n",
      "[CV] eta=0.1, gamma=0, max_depth=2, min_child_weigh=1, n_estimators=50, nthread=2 \n",
      "[CV]  eta=0.1, gamma=0, max_depth=2, min_child_weigh=1, n_estimators=50, nthread=2, score=1.000, total=   0.0s\n",
      "[CV] eta=0.1, gamma=0, max_depth=2, min_child_weigh=1, n_estimators=50, nthread=2 \n",
      "[CV]  eta=0.1, gamma=0, max_depth=2, min_child_weigh=1, n_estimators=50, nthread=2, score=1.000, total=   0.0s\n",
      "[CV] eta=0.1, gamma=0, max_depth=2, min_child_weigh=2, n_estimators=50, nthread=2 \n",
      "[CV]  eta=0.1, gamma=0, max_depth=2, min_child_weigh=2, n_estimators=50, nthread=2, score=1.000, total=   0.0s\n",
      "[CV] eta=0.1, gamma=0, max_depth=2, min_child_weigh=2, n_estimators=50, nthread=2 \n",
      "[CV]  eta=0.1, gamma=0, max_depth=2, min_child_weigh=2, n_estimators=50, nthread=2, score=0.833, total=   0.0s\n",
      "[CV] eta=0.1, gamma=0, max_depth=2, min_child_weigh=2, n_estimators=50, nthread=2 \n",
      "[CV]  eta=0.1, gamma=0, max_depth=2, min_child_weigh=2, n_estimators=50, nthread=2, score=1.000, total=   0.0s\n",
      "[CV] eta=0.1, gamma=0, max_depth=2, min_child_weigh=2, n_estimators=50, nthread=2 \n",
      "[CV]  eta=0.1, gamma=0, max_depth=2, min_child_weigh=2, n_estimators=50, nthread=2, score=1.000, total=   0.0s\n",
      "[CV] eta=0.1, gamma=0, max_depth=2, min_child_weigh=2, n_estimators=50, nthread=2 \n",
      "[CV]  eta=0.1, gamma=0, max_depth=2, min_child_weigh=2, n_estimators=50, nthread=2, score=1.000, total=   0.0s\n",
      "[CV] eta=0.1, gamma=0, max_depth=4, min_child_weigh=1, n_estimators=50, nthread=2 \n",
      "[CV]  eta=0.1, gamma=0, max_depth=4, min_child_weigh=1, n_estimators=50, nthread=2, score=1.000, total=   0.0s\n",
      "[CV] eta=0.1, gamma=0, max_depth=4, min_child_weigh=1, n_estimators=50, nthread=2 \n",
      "[CV]  eta=0.1, gamma=0, max_depth=4, min_child_weigh=1, n_estimators=50, nthread=2, score=0.833, total=   0.0s\n",
      "[CV] eta=0.1, gamma=0, max_depth=4, min_child_weigh=1, n_estimators=50, nthread=2 \n",
      "[CV]  eta=0.1, gamma=0, max_depth=4, min_child_weigh=1, n_estimators=50, nthread=2, score=1.000, total=   0.0s\n",
      "[CV] eta=0.1, gamma=0, max_depth=4, min_child_weigh=1, n_estimators=50, nthread=2 \n",
      "[CV]  eta=0.1, gamma=0, max_depth=4, min_child_weigh=1, n_estimators=50, nthread=2, score=1.000, total=   0.0s\n",
      "[CV] eta=0.1, gamma=0, max_depth=4, min_child_weigh=1, n_estimators=50, nthread=2 \n"
     ]
    },
    {
     "name": "stderr",
     "output_type": "stream",
     "text": [
      "[Parallel(n_jobs=1)]: Using backend SequentialBackend with 1 concurrent workers.\n",
      "[Parallel(n_jobs=1)]: Done   1 out of   1 | elapsed:    0.0s remaining:    0.0s\n",
      "[Parallel(n_jobs=1)]: Done   2 out of   2 | elapsed:    0.0s remaining:    0.0s\n"
     ]
    },
    {
     "name": "stdout",
     "output_type": "stream",
     "text": [
      "[CV]  eta=0.1, gamma=0, max_depth=4, min_child_weigh=1, n_estimators=50, nthread=2, score=1.000, total=   0.0s\n",
      "[CV] eta=0.1, gamma=0, max_depth=4, min_child_weigh=2, n_estimators=50, nthread=2 \n",
      "[CV]  eta=0.1, gamma=0, max_depth=4, min_child_weigh=2, n_estimators=50, nthread=2, score=1.000, total=   0.0s\n",
      "[CV] eta=0.1, gamma=0, max_depth=4, min_child_weigh=2, n_estimators=50, nthread=2 \n",
      "[CV]  eta=0.1, gamma=0, max_depth=4, min_child_weigh=2, n_estimators=50, nthread=2, score=0.833, total=   0.0s\n",
      "[CV] eta=0.1, gamma=0, max_depth=4, min_child_weigh=2, n_estimators=50, nthread=2 \n",
      "[CV]  eta=0.1, gamma=0, max_depth=4, min_child_weigh=2, n_estimators=50, nthread=2, score=1.000, total=   0.0s\n",
      "[CV] eta=0.1, gamma=0, max_depth=4, min_child_weigh=2, n_estimators=50, nthread=2 \n",
      "[CV]  eta=0.1, gamma=0, max_depth=4, min_child_weigh=2, n_estimators=50, nthread=2, score=1.000, total=   0.0s\n",
      "[CV] eta=0.1, gamma=0, max_depth=4, min_child_weigh=2, n_estimators=50, nthread=2 \n",
      "[CV]  eta=0.1, gamma=0, max_depth=4, min_child_weigh=2, n_estimators=50, nthread=2, score=1.000, total=   0.0s\n",
      "[CV] eta=0.1, gamma=0.1, max_depth=2, min_child_weigh=1, n_estimators=50, nthread=2 \n",
      "[CV]  eta=0.1, gamma=0.1, max_depth=2, min_child_weigh=1, n_estimators=50, nthread=2, score=1.000, total=   0.0s\n",
      "[CV] eta=0.1, gamma=0.1, max_depth=2, min_child_weigh=1, n_estimators=50, nthread=2 \n",
      "[CV]  eta=0.1, gamma=0.1, max_depth=2, min_child_weigh=1, n_estimators=50, nthread=2, score=0.833, total=   0.0s\n",
      "[CV] eta=0.1, gamma=0.1, max_depth=2, min_child_weigh=1, n_estimators=50, nthread=2 \n",
      "[CV]  eta=0.1, gamma=0.1, max_depth=2, min_child_weigh=1, n_estimators=50, nthread=2, score=1.000, total=   0.0s\n",
      "[CV] eta=0.1, gamma=0.1, max_depth=2, min_child_weigh=1, n_estimators=50, nthread=2 \n",
      "[CV]  eta=0.1, gamma=0.1, max_depth=2, min_child_weigh=1, n_estimators=50, nthread=2, score=1.000, total=   0.0s\n",
      "[CV] eta=0.1, gamma=0.1, max_depth=2, min_child_weigh=1, n_estimators=50, nthread=2 \n",
      "[CV]  eta=0.1, gamma=0.1, max_depth=2, min_child_weigh=1, n_estimators=50, nthread=2, score=1.000, total=   0.0s\n",
      "[CV] eta=0.1, gamma=0.1, max_depth=2, min_child_weigh=2, n_estimators=50, nthread=2 \n",
      "[CV]  eta=0.1, gamma=0.1, max_depth=2, min_child_weigh=2, n_estimators=50, nthread=2, score=1.000, total=   0.0s\n",
      "[CV] eta=0.1, gamma=0.1, max_depth=2, min_child_weigh=2, n_estimators=50, nthread=2 \n",
      "[CV]  eta=0.1, gamma=0.1, max_depth=2, min_child_weigh=2, n_estimators=50, nthread=2, score=0.833, total=   0.0s\n",
      "[CV] eta=0.1, gamma=0.1, max_depth=2, min_child_weigh=2, n_estimators=50, nthread=2 \n",
      "[CV]  eta=0.1, gamma=0.1, max_depth=2, min_child_weigh=2, n_estimators=50, nthread=2, score=1.000, total=   0.0s\n",
      "[CV] eta=0.1, gamma=0.1, max_depth=2, min_child_weigh=2, n_estimators=50, nthread=2 \n",
      "[CV]  eta=0.1, gamma=0.1, max_depth=2, min_child_weigh=2, n_estimators=50, nthread=2, score=1.000, total=   0.0s\n",
      "[CV] eta=0.1, gamma=0.1, max_depth=2, min_child_weigh=2, n_estimators=50, nthread=2 \n",
      "[CV]  eta=0.1, gamma=0.1, max_depth=2, min_child_weigh=2, n_estimators=50, nthread=2, score=1.000, total=   0.0s\n",
      "[CV] eta=0.1, gamma=0.1, max_depth=4, min_child_weigh=1, n_estimators=50, nthread=2 \n",
      "[CV]  eta=0.1, gamma=0.1, max_depth=4, min_child_weigh=1, n_estimators=50, nthread=2, score=1.000, total=   0.0s\n",
      "[CV] eta=0.1, gamma=0.1, max_depth=4, min_child_weigh=1, n_estimators=50, nthread=2 \n",
      "[CV]  eta=0.1, gamma=0.1, max_depth=4, min_child_weigh=1, n_estimators=50, nthread=2, score=0.833, total=   0.0s\n",
      "[CV] eta=0.1, gamma=0.1, max_depth=4, min_child_weigh=1, n_estimators=50, nthread=2 \n",
      "[CV]  eta=0.1, gamma=0.1, max_depth=4, min_child_weigh=1, n_estimators=50, nthread=2, score=1.000, total=   0.0s\n",
      "[CV] eta=0.1, gamma=0.1, max_depth=4, min_child_weigh=1, n_estimators=50, nthread=2 \n",
      "[CV]  eta=0.1, gamma=0.1, max_depth=4, min_child_weigh=1, n_estimators=50, nthread=2, score=1.000, total=   0.0s\n",
      "[CV] eta=0.1, gamma=0.1, max_depth=4, min_child_weigh=1, n_estimators=50, nthread=2 \n",
      "[CV]  eta=0.1, gamma=0.1, max_depth=4, min_child_weigh=1, n_estimators=50, nthread=2, score=1.000, total=   0.0s\n",
      "[CV] eta=0.1, gamma=0.1, max_depth=4, min_child_weigh=2, n_estimators=50, nthread=2 \n",
      "[CV]  eta=0.1, gamma=0.1, max_depth=4, min_child_weigh=2, n_estimators=50, nthread=2, score=1.000, total=   0.0s\n",
      "[CV] eta=0.1, gamma=0.1, max_depth=4, min_child_weigh=2, n_estimators=50, nthread=2 \n",
      "[CV]  eta=0.1, gamma=0.1, max_depth=4, min_child_weigh=2, n_estimators=50, nthread=2, score=0.833, total=   0.0s\n",
      "[CV] eta=0.1, gamma=0.1, max_depth=4, min_child_weigh=2, n_estimators=50, nthread=2 \n",
      "[CV]  eta=0.1, gamma=0.1, max_depth=4, min_child_weigh=2, n_estimators=50, nthread=2, score=1.000, total=   0.0s\n",
      "[CV] eta=0.1, gamma=0.1, max_depth=4, min_child_weigh=2, n_estimators=50, nthread=2 \n",
      "[CV]  eta=0.1, gamma=0.1, max_depth=4, min_child_weigh=2, n_estimators=50, nthread=2, score=1.000, total=   0.0s\n",
      "[CV] eta=0.1, gamma=0.1, max_depth=4, min_child_weigh=2, n_estimators=50, nthread=2 \n",
      "[CV]  eta=0.1, gamma=0.1, max_depth=4, min_child_weigh=2, n_estimators=50, nthread=2, score=1.000, total=   0.0s\n",
      "[CV] eta=0.1, gamma=0.2, max_depth=2, min_child_weigh=1, n_estimators=50, nthread=2 \n",
      "[CV]  eta=0.1, gamma=0.2, max_depth=2, min_child_weigh=1, n_estimators=50, nthread=2, score=1.000, total=   0.0s\n",
      "[CV] eta=0.1, gamma=0.2, max_depth=2, min_child_weigh=1, n_estimators=50, nthread=2 \n",
      "[CV]  eta=0.1, gamma=0.2, max_depth=2, min_child_weigh=1, n_estimators=50, nthread=2, score=0.833, total=   0.0s\n",
      "[CV] eta=0.1, gamma=0.2, max_depth=2, min_child_weigh=1, n_estimators=50, nthread=2 \n",
      "[CV]  eta=0.1, gamma=0.2, max_depth=2, min_child_weigh=1, n_estimators=50, nthread=2, score=1.000, total=   0.0s\n",
      "[CV] eta=0.1, gamma=0.2, max_depth=2, min_child_weigh=1, n_estimators=50, nthread=2 \n",
      "[CV]  eta=0.1, gamma=0.2, max_depth=2, min_child_weigh=1, n_estimators=50, nthread=2, score=1.000, total=   0.0s\n",
      "[CV] eta=0.1, gamma=0.2, max_depth=2, min_child_weigh=1, n_estimators=50, nthread=2 \n",
      "[CV]  eta=0.1, gamma=0.2, max_depth=2, min_child_weigh=1, n_estimators=50, nthread=2, score=1.000, total=   0.0s\n",
      "[CV] eta=0.1, gamma=0.2, max_depth=2, min_child_weigh=2, n_estimators=50, nthread=2 \n",
      "[CV]  eta=0.1, gamma=0.2, max_depth=2, min_child_weigh=2, n_estimators=50, nthread=2, score=1.000, total=   0.0s\n",
      "[CV] eta=0.1, gamma=0.2, max_depth=2, min_child_weigh=2, n_estimators=50, nthread=2 \n",
      "[CV]  eta=0.1, gamma=0.2, max_depth=2, min_child_weigh=2, n_estimators=50, nthread=2, score=0.833, total=   0.0s\n",
      "[CV] eta=0.1, gamma=0.2, max_depth=2, min_child_weigh=2, n_estimators=50, nthread=2 \n",
      "[CV]  eta=0.1, gamma=0.2, max_depth=2, min_child_weigh=2, n_estimators=50, nthread=2, score=1.000, total=   0.0s\n",
      "[CV] eta=0.1, gamma=0.2, max_depth=2, min_child_weigh=2, n_estimators=50, nthread=2 \n",
      "[CV]  eta=0.1, gamma=0.2, max_depth=2, min_child_weigh=2, n_estimators=50, nthread=2, score=1.000, total=   0.0s\n",
      "[CV] eta=0.1, gamma=0.2, max_depth=2, min_child_weigh=2, n_estimators=50, nthread=2 \n",
      "[CV]  eta=0.1, gamma=0.2, max_depth=2, min_child_weigh=2, n_estimators=50, nthread=2, score=1.000, total=   0.0s\n",
      "[CV] eta=0.1, gamma=0.2, max_depth=4, min_child_weigh=1, n_estimators=50, nthread=2 \n",
      "[CV]  eta=0.1, gamma=0.2, max_depth=4, min_child_weigh=1, n_estimators=50, nthread=2, score=1.000, total=   0.0s\n",
      "[CV] eta=0.1, gamma=0.2, max_depth=4, min_child_weigh=1, n_estimators=50, nthread=2 \n",
      "[CV]  eta=0.1, gamma=0.2, max_depth=4, min_child_weigh=1, n_estimators=50, nthread=2, score=0.833, total=   0.0s\n",
      "[CV] eta=0.1, gamma=0.2, max_depth=4, min_child_weigh=1, n_estimators=50, nthread=2 \n",
      "[CV]  eta=0.1, gamma=0.2, max_depth=4, min_child_weigh=1, n_estimators=50, nthread=2, score=1.000, total=   0.0s\n",
      "[CV] eta=0.1, gamma=0.2, max_depth=4, min_child_weigh=1, n_estimators=50, nthread=2 \n",
      "[CV]  eta=0.1, gamma=0.2, max_depth=4, min_child_weigh=1, n_estimators=50, nthread=2, score=1.000, total=   0.0s\n",
      "[CV] eta=0.1, gamma=0.2, max_depth=4, min_child_weigh=1, n_estimators=50, nthread=2 \n",
      "[CV]  eta=0.1, gamma=0.2, max_depth=4, min_child_weigh=1, n_estimators=50, nthread=2, score=1.000, total=   0.0s\n",
      "[CV] eta=0.1, gamma=0.2, max_depth=4, min_child_weigh=2, n_estimators=50, nthread=2 \n",
      "[CV]  eta=0.1, gamma=0.2, max_depth=4, min_child_weigh=2, n_estimators=50, nthread=2, score=1.000, total=   0.0s\n",
      "[CV] eta=0.1, gamma=0.2, max_depth=4, min_child_weigh=2, n_estimators=50, nthread=2 \n",
      "[CV]  eta=0.1, gamma=0.2, max_depth=4, min_child_weigh=2, n_estimators=50, nthread=2, score=0.833, total=   0.0s\n",
      "[CV] eta=0.1, gamma=0.2, max_depth=4, min_child_weigh=2, n_estimators=50, nthread=2 \n",
      "[CV]  eta=0.1, gamma=0.2, max_depth=4, min_child_weigh=2, n_estimators=50, nthread=2, score=1.000, total=   0.0s\n",
      "[CV] eta=0.1, gamma=0.2, max_depth=4, min_child_weigh=2, n_estimators=50, nthread=2 \n",
      "[CV]  eta=0.1, gamma=0.2, max_depth=4, min_child_weigh=2, n_estimators=50, nthread=2, score=1.000, total=   0.0s\n",
      "[CV] eta=0.1, gamma=0.2, max_depth=4, min_child_weigh=2, n_estimators=50, nthread=2 \n",
      "[CV]  eta=0.1, gamma=0.2, max_depth=4, min_child_weigh=2, n_estimators=50, nthread=2, score=1.000, total=   0.0s\n"
     ]
    },
    {
     "name": "stderr",
     "output_type": "stream",
     "text": [
      "[Parallel(n_jobs=1)]: Done  60 out of  60 | elapsed:    0.8s finished\n"
     ]
    },
    {
     "data": {
      "text/plain": [
       "GridSearchCV(cv=StratifiedKFold(n_splits=5, random_state=1, shuffle=True),\n",
       "             error_score=nan,\n",
       "             estimator=XGBClassifier(base_score=None, booster=None,\n",
       "                                     colsample_bylevel=None,\n",
       "                                     colsample_bynode=None,\n",
       "                                     colsample_bytree=None, gamma=None,\n",
       "                                     gpu_id=None, importance_type='gain',\n",
       "                                     interaction_constraints=None,\n",
       "                                     learning_rate=None, max_delta_step=None,\n",
       "                                     max_depth=None, min_child_wei...\n",
       "                                     random_state=None, reg_alpha=None,\n",
       "                                     reg_lambda=None, scale_pos_weight=None,\n",
       "                                     subsample=None, tree_method=None,\n",
       "                                     validate_parameters=False,\n",
       "                                     verbosity=None),\n",
       "             iid='deprecated', n_jobs=1,\n",
       "             param_grid={'eta': [0.1], 'gamma': [0, 0.1, 0.2],\n",
       "                         'max_depth': [2, 4], 'min_child_weigh': [1, 2],\n",
       "                         'n_estimators': [50], 'nthread': [2]},\n",
       "             pre_dispatch='2*n_jobs', refit=True, return_train_score=False,\n",
       "             scoring='accuracy', verbose=3)"
      ]
     },
     "execution_count": 34,
     "metadata": {},
     "output_type": "execute_result"
    }
   ],
   "source": [
    "import xgboost as xgb\n",
    "from sklearn.model_selection import StratifiedKFold, GridSearchCV\n",
    "\n",
    "model = xgb.XGBClassifier()\n",
    "skf = StratifiedKFold(n_splits=5, shuffle=True, random_state=1)\n",
    "clf = GridSearchCV(estimator=model, param_grid=params, cv=skf, scoring=\"accuracy\", n_jobs=1, verbose=3)\n",
    "clf.fit(train_x, train_y)"
   ]
  },
  {
   "cell_type": "code",
   "execution_count": 35,
   "metadata": {},
   "outputs": [
    {
     "name": "stdout",
     "output_type": "stream",
     "text": [
      "score: 0.967 +/-0.1333, params: {'eta': 0.1, 'gamma': 0, 'max_depth': 2, 'min_child_weigh': 1, 'n_estimators': 50, 'nthread': 2}\n",
      "score: 0.967 +/-0.1333, params: {'eta': 0.1, 'gamma': 0, 'max_depth': 2, 'min_child_weigh': 2, 'n_estimators': 50, 'nthread': 2}\n",
      "score: 0.967 +/-0.1333, params: {'eta': 0.1, 'gamma': 0, 'max_depth': 4, 'min_child_weigh': 1, 'n_estimators': 50, 'nthread': 2}\n",
      "score: 0.967 +/-0.1333, params: {'eta': 0.1, 'gamma': 0, 'max_depth': 4, 'min_child_weigh': 2, 'n_estimators': 50, 'nthread': 2}\n",
      "score: 0.967 +/-0.1333, params: {'eta': 0.1, 'gamma': 0.1, 'max_depth': 2, 'min_child_weigh': 1, 'n_estimators': 50, 'nthread': 2}\n",
      "score: 0.967 +/-0.1333, params: {'eta': 0.1, 'gamma': 0.1, 'max_depth': 2, 'min_child_weigh': 2, 'n_estimators': 50, 'nthread': 2}\n",
      "score: 0.967 +/-0.1333, params: {'eta': 0.1, 'gamma': 0.1, 'max_depth': 4, 'min_child_weigh': 1, 'n_estimators': 50, 'nthread': 2}\n",
      "score: 0.967 +/-0.1333, params: {'eta': 0.1, 'gamma': 0.1, 'max_depth': 4, 'min_child_weigh': 2, 'n_estimators': 50, 'nthread': 2}\n",
      "score: 0.967 +/-0.1333, params: {'eta': 0.1, 'gamma': 0.2, 'max_depth': 2, 'min_child_weigh': 1, 'n_estimators': 50, 'nthread': 2}\n",
      "score: 0.967 +/-0.1333, params: {'eta': 0.1, 'gamma': 0.2, 'max_depth': 2, 'min_child_weigh': 2, 'n_estimators': 50, 'nthread': 2}\n",
      "score: 0.967 +/-0.1333, params: {'eta': 0.1, 'gamma': 0.2, 'max_depth': 4, 'min_child_weigh': 1, 'n_estimators': 50, 'nthread': 2}\n",
      "score: 0.967 +/-0.1333, params: {'eta': 0.1, 'gamma': 0.2, 'max_depth': 4, 'min_child_weigh': 2, 'n_estimators': 50, 'nthread': 2}\n"
     ]
    }
   ],
   "source": [
    "means = clf.cv_results_['mean_test_score']\n",
    "stds = clf.cv_results_['std_test_score']\n",
    "params = clf.cv_results_['params']\n",
    "\n",
    "df = pd.DataFrame(data=zip(means, stds, params), columns=['mean', 'std', 'params'])\n",
    "df = df.sort_values('std', ascending=True)\n",
    "df = df.sort_values('mean', ascending=False)\n",
    "\n",
    "for index, row in df.iterrows():\n",
    "    print(\"score: %.3f +/-%.4f, params: %r\" % (row['mean'], row['std']*2, row['params']))"
   ]
  },
  {
   "cell_type": "code",
   "execution_count": 36,
   "metadata": {},
   "outputs": [
    {
     "name": "stdout",
     "output_type": "stream",
     "text": [
      "Best score: 0.9667\n",
      "{'eta': 0.1, 'gamma': 0, 'max_depth': 2, 'min_child_weigh': 1, 'n_estimators': 50, 'nthread': 2}\n"
     ]
    }
   ],
   "source": [
    "print(\"Best score: %.4f\" % (clf.best_score_))\n",
    "print(clf.best_params_)"
   ]
  },
  {
   "cell_type": "code",
   "execution_count": 37,
   "metadata": {},
   "outputs": [
    {
     "name": "stdout",
     "output_type": "stream",
     "text": [
      "score:0.9417\n"
     ]
    }
   ],
   "source": [
    "from sklearn.metrics import accuracy_score\n",
    "\n",
    "model = clf.best_estimator_\n",
    "pred = model.predict(test_x)\n",
    "score = accuracy_score(test_y, pred)\n",
    "print('score:{0:.4f}'.format(score))"
   ]
  },
  {
   "cell_type": "code",
   "execution_count": null,
   "metadata": {},
   "outputs": [],
   "source": []
  }
 ],
 "metadata": {
  "kernelspec": {
   "display_name": "Python 3",
   "language": "python",
   "name": "python3"
  },
  "language_info": {
   "codemirror_mode": {
    "name": "ipython",
    "version": 3
   },
   "file_extension": ".py",
   "mimetype": "text/x-python",
   "name": "python",
   "nbconvert_exporter": "python",
   "pygments_lexer": "ipython3",
   "version": "3.7.6"
  }
 },
 "nbformat": 4,
 "nbformat_minor": 4
}
