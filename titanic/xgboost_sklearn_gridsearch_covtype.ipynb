{
 "cells": [
  {
   "cell_type": "code",
   "execution_count": 1,
   "metadata": {},
   "outputs": [],
   "source": [
    "%matplotlib inline\n",
    "import pandas as pd\n",
    "import xgboost as xgb"
   ]
  },
  {
   "cell_type": "code",
   "execution_count": 2,
   "metadata": {},
   "outputs": [],
   "source": [
    "from sklearn.datasets import fetch_covtype\n",
    "\n",
    "forest_tree = fetch_covtype()\n",
    "\n",
    "forest_tree_data = pd.DataFrame(forest_tree.data)\n",
    "forest_tree_target = pd.Series(forest_tree.target)\n",
    "\n",
    "# targetが1〜7なので、0〜6に補正する\n",
    "forest_tree_target = forest_tree_target - 1\n",
    "\n",
    "#print(forest_tree.DESCR)"
   ]
  },
  {
   "cell_type": "code",
   "execution_count": 3,
   "metadata": {},
   "outputs": [],
   "source": [
    "from sklearn.model_selection import train_test_split\n",
    "\n",
    "train_x, test_x, train_y, test_y = train_test_split(forest_tree_data, forest_tree_target, test_size=0.5, shuffle=True)"
   ]
  },
  {
   "cell_type": "code",
   "execution_count": 4,
   "metadata": {},
   "outputs": [],
   "source": [
    "params = {'eta': [1.0], 'n_estimators': [100], 'max_depth':[2], 'nthread': [2] }"
   ]
  },
  {
   "cell_type": "code",
   "execution_count": 5,
   "metadata": {},
   "outputs": [
    {
     "name": "stdout",
     "output_type": "stream",
     "text": [
      "Fitting 4 folds for each of 1 candidates, totalling 4 fits\n",
      "[CV] eta=1.0, max_depth=2, n_estimators=100, nthread=2 ...............\n"
     ]
    },
    {
     "name": "stderr",
     "output_type": "stream",
     "text": [
      "[Parallel(n_jobs=1)]: Using backend SequentialBackend with 1 concurrent workers.\n"
     ]
    },
    {
     "name": "stdout",
     "output_type": "stream",
     "text": [
      "[CV]  eta=1.0, max_depth=2, n_estimators=100, nthread=2, score=0.782, total= 8.5min\n",
      "[CV] eta=1.0, max_depth=2, n_estimators=100, nthread=2 ...............\n"
     ]
    },
    {
     "name": "stderr",
     "output_type": "stream",
     "text": [
      "[Parallel(n_jobs=1)]: Done   1 out of   1 | elapsed:  8.5min remaining:    0.0s\n"
     ]
    },
    {
     "name": "stdout",
     "output_type": "stream",
     "text": [
      "[CV]  eta=1.0, max_depth=2, n_estimators=100, nthread=2, score=0.781, total= 8.8min\n",
      "[CV] eta=1.0, max_depth=2, n_estimators=100, nthread=2 ...............\n"
     ]
    },
    {
     "name": "stderr",
     "output_type": "stream",
     "text": [
      "[Parallel(n_jobs=1)]: Done   2 out of   2 | elapsed: 17.3min remaining:    0.0s\n"
     ]
    },
    {
     "name": "stdout",
     "output_type": "stream",
     "text": [
      "[CV]  eta=1.0, max_depth=2, n_estimators=100, nthread=2, score=0.787, total= 8.8min\n",
      "[CV] eta=1.0, max_depth=2, n_estimators=100, nthread=2 ...............\n",
      "[CV]  eta=1.0, max_depth=2, n_estimators=100, nthread=2, score=0.783, total= 8.8min\n"
     ]
    },
    {
     "name": "stderr",
     "output_type": "stream",
     "text": [
      "[Parallel(n_jobs=1)]: Done   4 out of   4 | elapsed: 34.9min finished\n"
     ]
    },
    {
     "data": {
      "text/plain": [
       "GridSearchCV(cv=StratifiedKFold(n_splits=4, random_state=1, shuffle=True),\n",
       "             error_score=nan,\n",
       "             estimator=XGBClassifier(base_score=None, booster=None,\n",
       "                                     colsample_bylevel=None,\n",
       "                                     colsample_bynode=None,\n",
       "                                     colsample_bytree=None, gamma=None,\n",
       "                                     gpu_id=None, importance_type='gain',\n",
       "                                     interaction_constraints=None,\n",
       "                                     learning_rate=None, max_delta_step=None,\n",
       "                                     max_depth=None, min_child_wei...\n",
       "                                     objective='binary:logistic',\n",
       "                                     random_state=None, reg_alpha=None,\n",
       "                                     reg_lambda=None, scale_pos_weight=None,\n",
       "                                     subsample=None, tree_method=None,\n",
       "                                     validate_parameters=False,\n",
       "                                     verbosity=None),\n",
       "             iid='deprecated', n_jobs=1,\n",
       "             param_grid={'eta': [1.0], 'max_depth': [2], 'n_estimators': [100],\n",
       "                         'nthread': [2]},\n",
       "             pre_dispatch='2*n_jobs', refit=True, return_train_score=False,\n",
       "             scoring='accuracy', verbose=3)"
      ]
     },
     "execution_count": 5,
     "metadata": {},
     "output_type": "execute_result"
    }
   ],
   "source": [
    "import xgboost as xgb\n",
    "from sklearn.model_selection import StratifiedKFold, GridSearchCV\n",
    "\n",
    "model = xgb.XGBClassifier()\n",
    "skf = StratifiedKFold(n_splits=4, shuffle=True, random_state=1)\n",
    "clf = GridSearchCV(estimator=model, param_grid=params, cv=skf, scoring=\"accuracy\", n_jobs=1, verbose=3)\n",
    "clf.fit(train_x, train_y)"
   ]
  },
  {
   "cell_type": "code",
   "execution_count": 6,
   "metadata": {},
   "outputs": [
    {
     "name": "stdout",
     "output_type": "stream",
     "text": [
      "score: 0.784 +/-0.0044, params: {'eta': 1.0, 'max_depth': 2, 'n_estimators': 100, 'nthread': 2}\n"
     ]
    }
   ],
   "source": [
    "means = clf.cv_results_['mean_test_score']\n",
    "stds = clf.cv_results_['std_test_score']\n",
    "params = clf.cv_results_['params']\n",
    "\n",
    "df = pd.DataFrame(data=zip(means, stds, params), columns=['mean', 'std', 'params'])\n",
    "df = df.sort_values('std', ascending=True)\n",
    "df = df.sort_values('mean', ascending=False)\n",
    "\n",
    "for index, row in df.iterrows():\n",
    "    print(\"score: %.3f +/-%.4f, params: %r\" % \n",
    "          (row['mean'], row['std']*2, row['params']))"
   ]
  },
  {
   "cell_type": "code",
   "execution_count": 7,
   "metadata": {},
   "outputs": [
    {
     "name": "stdout",
     "output_type": "stream",
     "text": [
      "Best score: 0.7836\n",
      "{'eta': 1.0, 'max_depth': 2, 'n_estimators': 100, 'nthread': 2}\n"
     ]
    }
   ],
   "source": [
    "print(\"Best score: %.4f\" % (clf.best_score_))\n",
    "print(clf.best_params_)"
   ]
  },
  {
   "cell_type": "code",
   "execution_count": 8,
   "metadata": {},
   "outputs": [
    {
     "name": "stdout",
     "output_type": "stream",
     "text": [
      "Score:0.7810\n"
     ]
    }
   ],
   "source": [
    "from sklearn.metrics import accuracy_score\n",
    "\n",
    "model = clf.best_estimator_\n",
    "pred = model.predict(test_x)\n",
    "score = accuracy_score(test_y, pred)\n",
    "print('Score:{0:.4f}'.format(score))"
   ]
  },
  {
   "cell_type": "code",
   "execution_count": null,
   "metadata": {},
   "outputs": [],
   "source": []
  }
 ],
 "metadata": {
  "kernelspec": {
   "display_name": "Python 3",
   "language": "python",
   "name": "python3"
  },
  "language_info": {
   "codemirror_mode": {
    "name": "ipython",
    "version": 3
   },
   "file_extension": ".py",
   "mimetype": "text/x-python",
   "name": "python",
   "nbconvert_exporter": "python",
   "pygments_lexer": "ipython3",
   "version": "3.7.6"
  }
 },
 "nbformat": 4,
 "nbformat_minor": 4
}
