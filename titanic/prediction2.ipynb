{
 "cells": [
  {
   "cell_type": "markdown",
   "metadata": {},
   "source": [
    "# import packages."
   ]
  },
  {
   "cell_type": "code",
   "execution_count": 1,
   "metadata": {},
   "outputs": [],
   "source": [
    "%matplotlib inline\n",
    "import numpy as np\n",
    "import pandas as pd\n",
    "import matplotlib.pyplot as plt\n",
    "import seaborn as sns\n",
    "import sklearn"
   ]
  },
  {
   "cell_type": "markdown",
   "metadata": {},
   "source": [
    "# Read input data"
   ]
  },
  {
   "cell_type": "code",
   "execution_count": 2,
   "metadata": {
    "scrolled": false
   },
   "outputs": [],
   "source": [
    "train_data = pd.read_csv('~/input/titanic/train.csv')\n",
    "test_data = pd.read_csv('~/input/titanic/test.csv')\n",
    "\n",
    "train_data['Test'] = 0\n",
    "test_data['Test'] = 1\n",
    "\n",
    "all_data = pd.concat([train_data, test_data], ignore_index=True)"
   ]
  },
  {
   "cell_type": "markdown",
   "metadata": {},
   "source": [
    "# Process data"
   ]
  },
  {
   "cell_type": "markdown",
   "metadata": {},
   "source": [
    "## Preprocess"
   ]
  },
  {
   "cell_type": "code",
   "execution_count": 3,
   "metadata": {},
   "outputs": [],
   "source": [
    "def preprocess_pclass(df):\n",
    "    pass\n",
    "\n",
    "def preprocess_name(df):\n",
    "    # Extract the character string corresponding to \"~~.\" from Name.\n",
    "    df[\"Title\"] = df['Name'].str.extract(\"([A-Za-z]+)\\.\")\n",
    "    pd.crosstab(df['Title'], [df['Sex'], df['Pclass']])\n",
    "    \n",
    "    # Group into representative titles\n",
    "    df['Title'] = df['Title'].replace(['Countess', 'Lady', 'Major', 'Sir'], 'Upper')\n",
    "    df['Title'] = df['Title'].replace(['Capt', 'Col', 'Don', 'Dona', 'Jonkheer', 'Rev' ], 'Rare')\n",
    "    df['Title'] = df['Title'].replace(['Mlle', 'Ms'], 'Miss')\n",
    "    df['Title'] = df['Title'].replace(['Mme'], 'Mrs')\n",
    "    \n",
    "def preprocess_sex(df):\n",
    "    df['Sex'] = df['Sex'].replace({'male':0, 'female': 1})\n",
    "    \n",
    "def preprocess_age(df):\n",
    "\n",
    "    def generations(age):\n",
    "        if age <= 6: return 0\n",
    "        if age <= 18: return 1\n",
    "        if age <= 60: return 2\n",
    "        return 3\n",
    "    \n",
    "    df['Generation'] = df['Age'].map(lambda age : generations(age))\n",
    "    \n",
    "def preprocess_sibsp_parch(df):\n",
    "    df['FamilySize'] = df['SibSp'] + df['Parch']\n",
    "    df['IsAlone'] = df['FamilySize'].map(lambda fsize : 1 if fsize==0 else 0)\n",
    "\n",
    "def preprocess_ticket(df):\n",
    "    pass\n",
    "\n",
    "def preprocess_fare(df):\n",
    "    \n",
    "    def fare_range(fare):\n",
    "        if fare < 5: return 0\n",
    "        if fare < 10: return 1\n",
    "        if fare < 15: return 2\n",
    "        if fare < 20: return 3\n",
    "        if fare < 50: return 4\n",
    "        return 5\n",
    "\n",
    "    df['FareRange'] = df['Fare'].map(lambda fare : fare_range(fare))\n",
    "\n",
    "def preprocess_cabin(df):\n",
    "    df[\"HasCabin\"] = df['Cabin'].map(lambda cabin : 0 if type(cabin)==float else 1)\n",
    "\n",
    "def preprocess_embarked(df):\n",
    "    df['Embarked'] = df['Embarked'] .replace({'S':0, 'Q': 1, 'C': 2})\n",
    "\n",
    "def preprocess_all_features(df):\n",
    "    preprocess_pclass(df)\n",
    "    preprocess_name(df)\n",
    "    preprocess_sex(df)\n",
    "    preprocess_age(df)\n",
    "    preprocess_sibsp_parch(df)\n",
    "    preprocess_ticket(df)\n",
    "    preprocess_fare(df)\n",
    "    preprocess_cabin(df)\n",
    "    preprocess_embarked(df)\n",
    "    \n",
    "preprocess_all_features(all_data)"
   ]
  },
  {
   "cell_type": "markdown",
   "metadata": {},
   "source": [
    "## Fill NaN"
   ]
  },
  {
   "cell_type": "code",
   "execution_count": 4,
   "metadata": {},
   "outputs": [],
   "source": [
    "def fillna_age(df):\n",
    "    df['Age'] = df.groupby(['Title'])['Age'].apply(lambda age: age.fillna(age.dropna().median()))\n",
    "    \n",
    "    titles = df['Title'].unique()\n",
    "    for title in titles:\n",
    "        title_df = df[df['Title']==title]\n",
    "        median_age = title_df['Age'].dropna().median()\n",
    "        #print(title, median_age)\n",
    "\n",
    "def fillna_fare(df):\n",
    "    df['Fare'] = df.groupby(['Title'])['Fare'].apply(lambda fare: fare.fillna(fare.dropna().median()))\n",
    "    \n",
    "    titles = df['Title'].unique()\n",
    "    for title in titles:\n",
    "        title_df = df[df['Title']==title]\n",
    "        median_fare = title_df['Fare'].dropna().median()\n",
    "        #print(title, median_fare)\n",
    "\n",
    "def fillna_embarked(df):\n",
    "    mode = df['Embarked'].mode()[0]\n",
    "    df['Embarked'].fillna(mode, inplace=True)\n",
    "    df = df.astype({'Embarked': int})\n",
    "\n",
    "def fillna_all(df):\n",
    "    fillna_age(df)\n",
    "    preprocess_age(df)\n",
    "    fillna_fare(df)\n",
    "    preprocess_fare(df)\n",
    "    fillna_embarked(df)\n",
    "    \n",
    "fillna_all(all_data)"
   ]
  },
  {
   "cell_type": "markdown",
   "metadata": {},
   "source": [
    "## Create new features"
   ]
  },
  {
   "cell_type": "markdown",
   "metadata": {},
   "source": [
    "### Create FamilyDeath"
   ]
  },
  {
   "cell_type": "code",
   "execution_count": 5,
   "metadata": {},
   "outputs": [],
   "source": [
    "def create_family_death(df):\n",
    "    df['LastName'] = df['Name'] .map(lambda name: name.split(\",\")[0])\n",
    "\n",
    "    df['FamilyDeath'] = np.nan\n",
    "    col_no = df.columns.get_loc('FamilyDeath')\n",
    "\n",
    "    for i in range(len(df)):\n",
    "\n",
    "        if df.iloc[i]['FamilySize'] > 0: \n",
    "            \n",
    "            last_name = df.iloc[i]['LastName']\n",
    "            family_size = df.iloc[i]['FamilySize']\n",
    "            \n",
    "            # Extract data of family members except yourself\n",
    "            temp = pd.concat([df.iloc[:i], df.iloc[i+1:]])\n",
    "            family = temp[(temp['LastName'] == last_name) & (temp['FamilySize'] == family_size)]\n",
    "            \n",
    "            if len(family) == 0:\n",
    "                continue\n",
    "                \n",
    "            # Set the average of the survival rate of the family excluding yourself\n",
    "            df.iloc[i, col_no] = family.Survived.mean()\n",
    "        \n",
    "    #df['FamilyDeath'] = df.groupby(['Title'])['FamilyDeath'].apply(lambda fd: fd.fillna(fd.dropna().mean()))\n",
    "    df['FamilyDeath'] .fillna(0.5, inplace=True)\n",
    "\n",
    "create_family_death(all_data)"
   ]
  },
  {
   "cell_type": "markdown",
   "metadata": {},
   "source": [
    "## Convert categorical variables to scalar variables"
   ]
  },
  {
   "cell_type": "code",
   "execution_count": 6,
   "metadata": {},
   "outputs": [],
   "source": [
    "def convert_title_to_scalar(df):\n",
    "    df['TitleNumber'] = 0\n",
    "    \n",
    "    temp = df[['Title', 'Survived']].groupby(['Title'], as_index=False).mean().sort_values(by='Survived')#, ascending=False)\n",
    "    temp['TitleNumber'] = np.arange(len(temp))\n",
    "    \n",
    "    for i in range(len(temp)):\n",
    "        title = temp.iloc[i]['Title']\n",
    "        number = temp.iloc[i]['TitleNumber']\n",
    "        df.loc[df['Title'] == title, 'TitleNumber'] = number\n",
    "\n",
    "convert_title_to_scalar(all_data)"
   ]
  },
  {
   "cell_type": "markdown",
   "metadata": {},
   "source": [
    "## Visualize the relationship between features and survival rate"
   ]
  },
  {
   "cell_type": "code",
   "execution_count": 7,
   "metadata": {},
   "outputs": [],
   "source": [
    "train_all = all_data[all_data['Test'] == 0]\n",
    "test_all = all_data[all_data['Test'] == 1]"
   ]
  },
  {
   "cell_type": "code",
   "execution_count": 8,
   "metadata": {},
   "outputs": [
    {
     "data": {
      "text/html": [
       "<div>\n",
       "<style scoped>\n",
       "    .dataframe tbody tr th:only-of-type {\n",
       "        vertical-align: middle;\n",
       "    }\n",
       "\n",
       "    .dataframe tbody tr th {\n",
       "        vertical-align: top;\n",
       "    }\n",
       "\n",
       "    .dataframe thead th {\n",
       "        text-align: right;\n",
       "    }\n",
       "</style>\n",
       "<table border=\"1\" class=\"dataframe\">\n",
       "  <thead>\n",
       "    <tr style=\"text-align: right;\">\n",
       "      <th></th>\n",
       "      <th>Title</th>\n",
       "      <th>Survived</th>\n",
       "    </tr>\n",
       "  </thead>\n",
       "  <tbody>\n",
       "    <tr>\n",
       "      <th>6</th>\n",
       "      <td>Upper</td>\n",
       "      <td>0.800000</td>\n",
       "    </tr>\n",
       "    <tr>\n",
       "      <th>4</th>\n",
       "      <td>Mrs</td>\n",
       "      <td>0.793651</td>\n",
       "    </tr>\n",
       "    <tr>\n",
       "      <th>2</th>\n",
       "      <td>Miss</td>\n",
       "      <td>0.702703</td>\n",
       "    </tr>\n",
       "    <tr>\n",
       "      <th>1</th>\n",
       "      <td>Master</td>\n",
       "      <td>0.575000</td>\n",
       "    </tr>\n",
       "    <tr>\n",
       "      <th>0</th>\n",
       "      <td>Dr</td>\n",
       "      <td>0.428571</td>\n",
       "    </tr>\n",
       "    <tr>\n",
       "      <th>3</th>\n",
       "      <td>Mr</td>\n",
       "      <td>0.156673</td>\n",
       "    </tr>\n",
       "    <tr>\n",
       "      <th>5</th>\n",
       "      <td>Rare</td>\n",
       "      <td>0.090909</td>\n",
       "    </tr>\n",
       "  </tbody>\n",
       "</table>\n",
       "</div>"
      ],
      "text/plain": [
       "    Title  Survived\n",
       "6   Upper  0.800000\n",
       "4     Mrs  0.793651\n",
       "2    Miss  0.702703\n",
       "1  Master  0.575000\n",
       "0      Dr  0.428571\n",
       "3      Mr  0.156673\n",
       "5    Rare  0.090909"
      ]
     },
     "execution_count": 8,
     "metadata": {},
     "output_type": "execute_result"
    }
   ],
   "source": [
    "train_all[['Title', 'Survived']].groupby(['Title'], as_index=False).mean().sort_values(by='Survived', ascending=False)"
   ]
  },
  {
   "cell_type": "code",
   "execution_count": 9,
   "metadata": {},
   "outputs": [
    {
     "data": {
      "text/html": [
       "<div>\n",
       "<style scoped>\n",
       "    .dataframe tbody tr th:only-of-type {\n",
       "        vertical-align: middle;\n",
       "    }\n",
       "\n",
       "    .dataframe tbody tr th {\n",
       "        vertical-align: top;\n",
       "    }\n",
       "\n",
       "    .dataframe thead th {\n",
       "        text-align: right;\n",
       "    }\n",
       "</style>\n",
       "<table border=\"1\" class=\"dataframe\">\n",
       "  <thead>\n",
       "    <tr style=\"text-align: right;\">\n",
       "      <th></th>\n",
       "      <th>Generation</th>\n",
       "      <th>Survived</th>\n",
       "    </tr>\n",
       "  </thead>\n",
       "  <tbody>\n",
       "    <tr>\n",
       "      <th>0</th>\n",
       "      <td>0</td>\n",
       "      <td>0.686275</td>\n",
       "    </tr>\n",
       "    <tr>\n",
       "      <th>1</th>\n",
       "      <td>1</td>\n",
       "      <td>0.402174</td>\n",
       "    </tr>\n",
       "    <tr>\n",
       "      <th>2</th>\n",
       "      <td>2</td>\n",
       "      <td>0.365014</td>\n",
       "    </tr>\n",
       "    <tr>\n",
       "      <th>3</th>\n",
       "      <td>3</td>\n",
       "      <td>0.227273</td>\n",
       "    </tr>\n",
       "  </tbody>\n",
       "</table>\n",
       "</div>"
      ],
      "text/plain": [
       "   Generation  Survived\n",
       "0           0  0.686275\n",
       "1           1  0.402174\n",
       "2           2  0.365014\n",
       "3           3  0.227273"
      ]
     },
     "execution_count": 9,
     "metadata": {},
     "output_type": "execute_result"
    }
   ],
   "source": [
    "train_all[['Generation', 'Survived']].groupby(['Generation'], as_index=False).mean().sort_values(by='Survived', ascending=False)"
   ]
  },
  {
   "cell_type": "code",
   "execution_count": 10,
   "metadata": {},
   "outputs": [
    {
     "data": {
      "text/html": [
       "<div>\n",
       "<style scoped>\n",
       "    .dataframe tbody tr th:only-of-type {\n",
       "        vertical-align: middle;\n",
       "    }\n",
       "\n",
       "    .dataframe tbody tr th {\n",
       "        vertical-align: top;\n",
       "    }\n",
       "\n",
       "    .dataframe thead th {\n",
       "        text-align: right;\n",
       "    }\n",
       "</style>\n",
       "<table border=\"1\" class=\"dataframe\">\n",
       "  <thead>\n",
       "    <tr style=\"text-align: right;\">\n",
       "      <th></th>\n",
       "      <th>FamilySize</th>\n",
       "      <th>Survived</th>\n",
       "    </tr>\n",
       "  </thead>\n",
       "  <tbody>\n",
       "    <tr>\n",
       "      <th>3</th>\n",
       "      <td>3</td>\n",
       "      <td>0.724138</td>\n",
       "    </tr>\n",
       "    <tr>\n",
       "      <th>2</th>\n",
       "      <td>2</td>\n",
       "      <td>0.578431</td>\n",
       "    </tr>\n",
       "    <tr>\n",
       "      <th>1</th>\n",
       "      <td>1</td>\n",
       "      <td>0.552795</td>\n",
       "    </tr>\n",
       "    <tr>\n",
       "      <th>6</th>\n",
       "      <td>6</td>\n",
       "      <td>0.333333</td>\n",
       "    </tr>\n",
       "    <tr>\n",
       "      <th>0</th>\n",
       "      <td>0</td>\n",
       "      <td>0.303538</td>\n",
       "    </tr>\n",
       "    <tr>\n",
       "      <th>4</th>\n",
       "      <td>4</td>\n",
       "      <td>0.200000</td>\n",
       "    </tr>\n",
       "    <tr>\n",
       "      <th>5</th>\n",
       "      <td>5</td>\n",
       "      <td>0.136364</td>\n",
       "    </tr>\n",
       "    <tr>\n",
       "      <th>7</th>\n",
       "      <td>7</td>\n",
       "      <td>0.000000</td>\n",
       "    </tr>\n",
       "    <tr>\n",
       "      <th>8</th>\n",
       "      <td>10</td>\n",
       "      <td>0.000000</td>\n",
       "    </tr>\n",
       "  </tbody>\n",
       "</table>\n",
       "</div>"
      ],
      "text/plain": [
       "   FamilySize  Survived\n",
       "3           3  0.724138\n",
       "2           2  0.578431\n",
       "1           1  0.552795\n",
       "6           6  0.333333\n",
       "0           0  0.303538\n",
       "4           4  0.200000\n",
       "5           5  0.136364\n",
       "7           7  0.000000\n",
       "8          10  0.000000"
      ]
     },
     "execution_count": 10,
     "metadata": {},
     "output_type": "execute_result"
    }
   ],
   "source": [
    "train_all[['FamilySize', 'Survived']].groupby(['FamilySize'], as_index=False).mean().sort_values(by='Survived', ascending=False)"
   ]
  },
  {
   "cell_type": "code",
   "execution_count": 11,
   "metadata": {},
   "outputs": [
    {
     "data": {
      "text/html": [
       "<div>\n",
       "<style scoped>\n",
       "    .dataframe tbody tr th:only-of-type {\n",
       "        vertical-align: middle;\n",
       "    }\n",
       "\n",
       "    .dataframe tbody tr th {\n",
       "        vertical-align: top;\n",
       "    }\n",
       "\n",
       "    .dataframe thead th {\n",
       "        text-align: right;\n",
       "    }\n",
       "</style>\n",
       "<table border=\"1\" class=\"dataframe\">\n",
       "  <thead>\n",
       "    <tr style=\"text-align: right;\">\n",
       "      <th></th>\n",
       "      <th>IsAlone</th>\n",
       "      <th>Survived</th>\n",
       "    </tr>\n",
       "  </thead>\n",
       "  <tbody>\n",
       "    <tr>\n",
       "      <th>0</th>\n",
       "      <td>0</td>\n",
       "      <td>0.505650</td>\n",
       "    </tr>\n",
       "    <tr>\n",
       "      <th>1</th>\n",
       "      <td>1</td>\n",
       "      <td>0.303538</td>\n",
       "    </tr>\n",
       "  </tbody>\n",
       "</table>\n",
       "</div>"
      ],
      "text/plain": [
       "   IsAlone  Survived\n",
       "0        0  0.505650\n",
       "1        1  0.303538"
      ]
     },
     "execution_count": 11,
     "metadata": {},
     "output_type": "execute_result"
    }
   ],
   "source": [
    "train_all[['IsAlone', 'Survived']].groupby(['IsAlone'], as_index=False).mean().sort_values(by='Survived', ascending=False)"
   ]
  },
  {
   "cell_type": "code",
   "execution_count": 12,
   "metadata": {},
   "outputs": [
    {
     "data": {
      "text/html": [
       "<div>\n",
       "<style scoped>\n",
       "    .dataframe tbody tr th:only-of-type {\n",
       "        vertical-align: middle;\n",
       "    }\n",
       "\n",
       "    .dataframe tbody tr th {\n",
       "        vertical-align: top;\n",
       "    }\n",
       "\n",
       "    .dataframe thead th {\n",
       "        text-align: right;\n",
       "    }\n",
       "</style>\n",
       "<table border=\"1\" class=\"dataframe\">\n",
       "  <thead>\n",
       "    <tr style=\"text-align: right;\">\n",
       "      <th></th>\n",
       "      <th>FareRange</th>\n",
       "      <th>Survived</th>\n",
       "    </tr>\n",
       "  </thead>\n",
       "  <tbody>\n",
       "    <tr>\n",
       "      <th>5</th>\n",
       "      <td>5</td>\n",
       "      <td>0.677019</td>\n",
       "    </tr>\n",
       "    <tr>\n",
       "      <th>3</th>\n",
       "      <td>3</td>\n",
       "      <td>0.500000</td>\n",
       "    </tr>\n",
       "    <tr>\n",
       "      <th>4</th>\n",
       "      <td>4</td>\n",
       "      <td>0.418605</td>\n",
       "    </tr>\n",
       "    <tr>\n",
       "      <th>2</th>\n",
       "      <td>2</td>\n",
       "      <td>0.388430</td>\n",
       "    </tr>\n",
       "    <tr>\n",
       "      <th>1</th>\n",
       "      <td>1</td>\n",
       "      <td>0.206250</td>\n",
       "    </tr>\n",
       "    <tr>\n",
       "      <th>0</th>\n",
       "      <td>0</td>\n",
       "      <td>0.062500</td>\n",
       "    </tr>\n",
       "  </tbody>\n",
       "</table>\n",
       "</div>"
      ],
      "text/plain": [
       "   FareRange  Survived\n",
       "5          5  0.677019\n",
       "3          3  0.500000\n",
       "4          4  0.418605\n",
       "2          2  0.388430\n",
       "1          1  0.206250\n",
       "0          0  0.062500"
      ]
     },
     "execution_count": 12,
     "metadata": {},
     "output_type": "execute_result"
    }
   ],
   "source": [
    "train_all[['FareRange', 'Survived']].groupby(['FareRange'], as_index=False).mean().sort_values(by='Survived', ascending=False)"
   ]
  },
  {
   "cell_type": "code",
   "execution_count": 13,
   "metadata": {},
   "outputs": [
    {
     "data": {
      "text/html": [
       "<div>\n",
       "<style scoped>\n",
       "    .dataframe tbody tr th:only-of-type {\n",
       "        vertical-align: middle;\n",
       "    }\n",
       "\n",
       "    .dataframe tbody tr th {\n",
       "        vertical-align: top;\n",
       "    }\n",
       "\n",
       "    .dataframe thead th {\n",
       "        text-align: right;\n",
       "    }\n",
       "</style>\n",
       "<table border=\"1\" class=\"dataframe\">\n",
       "  <thead>\n",
       "    <tr style=\"text-align: right;\">\n",
       "      <th></th>\n",
       "      <th>HasCabin</th>\n",
       "      <th>Survived</th>\n",
       "    </tr>\n",
       "  </thead>\n",
       "  <tbody>\n",
       "    <tr>\n",
       "      <th>1</th>\n",
       "      <td>1</td>\n",
       "      <td>0.666667</td>\n",
       "    </tr>\n",
       "    <tr>\n",
       "      <th>0</th>\n",
       "      <td>0</td>\n",
       "      <td>0.299854</td>\n",
       "    </tr>\n",
       "  </tbody>\n",
       "</table>\n",
       "</div>"
      ],
      "text/plain": [
       "   HasCabin  Survived\n",
       "1         1  0.666667\n",
       "0         0  0.299854"
      ]
     },
     "execution_count": 13,
     "metadata": {},
     "output_type": "execute_result"
    }
   ],
   "source": [
    "train_all[['HasCabin', 'Survived']].groupby(['HasCabin'], as_index=False).mean().sort_values(by='Survived', ascending=False)"
   ]
  },
  {
   "cell_type": "code",
   "execution_count": 14,
   "metadata": {},
   "outputs": [
    {
     "data": {
      "text/html": [
       "<div>\n",
       "<style scoped>\n",
       "    .dataframe tbody tr th:only-of-type {\n",
       "        vertical-align: middle;\n",
       "    }\n",
       "\n",
       "    .dataframe tbody tr th {\n",
       "        vertical-align: top;\n",
       "    }\n",
       "\n",
       "    .dataframe thead th {\n",
       "        text-align: right;\n",
       "    }\n",
       "</style>\n",
       "<table border=\"1\" class=\"dataframe\">\n",
       "  <thead>\n",
       "    <tr style=\"text-align: right;\">\n",
       "      <th></th>\n",
       "      <th>Embarked</th>\n",
       "      <th>Survived</th>\n",
       "    </tr>\n",
       "  </thead>\n",
       "  <tbody>\n",
       "    <tr>\n",
       "      <th>2</th>\n",
       "      <td>2.0</td>\n",
       "      <td>0.553571</td>\n",
       "    </tr>\n",
       "    <tr>\n",
       "      <th>1</th>\n",
       "      <td>1.0</td>\n",
       "      <td>0.389610</td>\n",
       "    </tr>\n",
       "    <tr>\n",
       "      <th>0</th>\n",
       "      <td>0.0</td>\n",
       "      <td>0.339009</td>\n",
       "    </tr>\n",
       "  </tbody>\n",
       "</table>\n",
       "</div>"
      ],
      "text/plain": [
       "   Embarked  Survived\n",
       "2       2.0  0.553571\n",
       "1       1.0  0.389610\n",
       "0       0.0  0.339009"
      ]
     },
     "execution_count": 14,
     "metadata": {},
     "output_type": "execute_result"
    }
   ],
   "source": [
    "train_all[['Embarked', 'Survived']].groupby(['Embarked'], as_index=False).mean().sort_values(by='Survived', ascending=False)"
   ]
  },
  {
   "cell_type": "code",
   "execution_count": 15,
   "metadata": {},
   "outputs": [
    {
     "data": {
      "text/html": [
       "<div>\n",
       "<style scoped>\n",
       "    .dataframe tbody tr th:only-of-type {\n",
       "        vertical-align: middle;\n",
       "    }\n",
       "\n",
       "    .dataframe tbody tr th {\n",
       "        vertical-align: top;\n",
       "    }\n",
       "\n",
       "    .dataframe thead th {\n",
       "        text-align: right;\n",
       "    }\n",
       "</style>\n",
       "<table border=\"1\" class=\"dataframe\">\n",
       "  <thead>\n",
       "    <tr style=\"text-align: right;\">\n",
       "      <th></th>\n",
       "      <th>FamilyDeath</th>\n",
       "      <th>Survived</th>\n",
       "    </tr>\n",
       "  </thead>\n",
       "  <tbody>\n",
       "    <tr>\n",
       "      <th>2</th>\n",
       "      <td>0.333333</td>\n",
       "      <td>1.000000</td>\n",
       "    </tr>\n",
       "    <tr>\n",
       "      <th>4</th>\n",
       "      <td>0.666667</td>\n",
       "      <td>0.750000</td>\n",
       "    </tr>\n",
       "    <tr>\n",
       "      <th>5</th>\n",
       "      <td>1.000000</td>\n",
       "      <td>0.682692</td>\n",
       "    </tr>\n",
       "    <tr>\n",
       "      <th>3</th>\n",
       "      <td>0.500000</td>\n",
       "      <td>0.360606</td>\n",
       "    </tr>\n",
       "    <tr>\n",
       "      <th>0</th>\n",
       "      <td>0.000000</td>\n",
       "      <td>0.227273</td>\n",
       "    </tr>\n",
       "    <tr>\n",
       "      <th>1</th>\n",
       "      <td>0.142857</td>\n",
       "      <td>0.000000</td>\n",
       "    </tr>\n",
       "  </tbody>\n",
       "</table>\n",
       "</div>"
      ],
      "text/plain": [
       "   FamilyDeath  Survived\n",
       "2     0.333333  1.000000\n",
       "4     0.666667  0.750000\n",
       "5     1.000000  0.682692\n",
       "3     0.500000  0.360606\n",
       "0     0.000000  0.227273\n",
       "1     0.142857  0.000000"
      ]
     },
     "execution_count": 15,
     "metadata": {},
     "output_type": "execute_result"
    }
   ],
   "source": [
    "train_all[['FamilyDeath', 'Survived']].groupby(['FamilyDeath'], as_index=False).mean().sort_values(by='Survived', ascending=False)"
   ]
  },
  {
   "cell_type": "code",
   "execution_count": 16,
   "metadata": {},
   "outputs": [
    {
     "data": {
      "text/plain": [
       "<matplotlib.axes._subplots.AxesSubplot at 0x7fccb41d0e10>"
      ]
     },
     "execution_count": 16,
     "metadata": {},
     "output_type": "execute_result"
    },
    {
     "data": {
      "image/png": "[encoded data removed]",
      "text/plain": [
       "<Figure size 432x288 with 1 Axes>"
      ]
     },
     "metadata": {
      "needs_background": "light"
     },
     "output_type": "display_data"
    }
   ],
   "source": [
    "sns.countplot(x='FamilyDeath', data=train_all, hue='Survived')"
   ]
  },
  {
   "cell_type": "code",
   "execution_count": 17,
   "metadata": {},
   "outputs": [
    {
     "data": {
      "text/html": [
       "<div>\n",
       "<style scoped>\n",
       "    .dataframe tbody tr th:only-of-type {\n",
       "        vertical-align: middle;\n",
       "    }\n",
       "\n",
       "    .dataframe tbody tr th {\n",
       "        vertical-align: top;\n",
       "    }\n",
       "\n",
       "    .dataframe thead th {\n",
       "        text-align: right;\n",
       "    }\n",
       "</style>\n",
       "<table border=\"1\" class=\"dataframe\">\n",
       "  <thead>\n",
       "    <tr style=\"text-align: right;\">\n",
       "      <th></th>\n",
       "      <th>TitleNumber</th>\n",
       "      <th>Survived</th>\n",
       "    </tr>\n",
       "  </thead>\n",
       "  <tbody>\n",
       "    <tr>\n",
       "      <th>6</th>\n",
       "      <td>6</td>\n",
       "      <td>0.800000</td>\n",
       "    </tr>\n",
       "    <tr>\n",
       "      <th>5</th>\n",
       "      <td>5</td>\n",
       "      <td>0.793651</td>\n",
       "    </tr>\n",
       "    <tr>\n",
       "      <th>4</th>\n",
       "      <td>4</td>\n",
       "      <td>0.702703</td>\n",
       "    </tr>\n",
       "    <tr>\n",
       "      <th>3</th>\n",
       "      <td>3</td>\n",
       "      <td>0.575000</td>\n",
       "    </tr>\n",
       "    <tr>\n",
       "      <th>2</th>\n",
       "      <td>2</td>\n",
       "      <td>0.428571</td>\n",
       "    </tr>\n",
       "    <tr>\n",
       "      <th>1</th>\n",
       "      <td>1</td>\n",
       "      <td>0.156673</td>\n",
       "    </tr>\n",
       "    <tr>\n",
       "      <th>0</th>\n",
       "      <td>0</td>\n",
       "      <td>0.090909</td>\n",
       "    </tr>\n",
       "  </tbody>\n",
       "</table>\n",
       "</div>"
      ],
      "text/plain": [
       "   TitleNumber  Survived\n",
       "6            6  0.800000\n",
       "5            5  0.793651\n",
       "4            4  0.702703\n",
       "3            3  0.575000\n",
       "2            2  0.428571\n",
       "1            1  0.156673\n",
       "0            0  0.090909"
      ]
     },
     "execution_count": 17,
     "metadata": {},
     "output_type": "execute_result"
    }
   ],
   "source": [
    "train_all[['TitleNumber', 'Survived']].groupby(['TitleNumber'], as_index=False).mean().sort_values(by='Survived', ascending=False)"
   ]
  },
  {
   "cell_type": "markdown",
   "metadata": {},
   "source": [
    "# Trainning"
   ]
  },
  {
   "cell_type": "markdown",
   "metadata": {},
   "source": [
    "## Remove unnecessary features"
   ]
  },
  {
   "cell_type": "code",
   "execution_count": 18,
   "metadata": {},
   "outputs": [
    {
     "data": {
      "text/html": [
       "<div>\n",
       "<style scoped>\n",
       "    .dataframe tbody tr th:only-of-type {\n",
       "        vertical-align: middle;\n",
       "    }\n",
       "\n",
       "    .dataframe tbody tr th {\n",
       "        vertical-align: top;\n",
       "    }\n",
       "\n",
       "    .dataframe thead th {\n",
       "        text-align: right;\n",
       "    }\n",
       "</style>\n",
       "<table border=\"1\" class=\"dataframe\">\n",
       "  <thead>\n",
       "    <tr style=\"text-align: right;\">\n",
       "      <th></th>\n",
       "      <th>PassengerId</th>\n",
       "      <th>Survived</th>\n",
       "      <th>Pclass</th>\n",
       "      <th>Sex</th>\n",
       "      <th>Embarked</th>\n",
       "      <th>Test</th>\n",
       "      <th>Generation</th>\n",
       "      <th>FamilySize</th>\n",
       "      <th>IsAlone</th>\n",
       "      <th>FareRange</th>\n",
       "      <th>HasCabin</th>\n",
       "      <th>FamilyDeath</th>\n",
       "      <th>TitleNumber</th>\n",
       "    </tr>\n",
       "  </thead>\n",
       "  <tbody>\n",
       "    <tr>\n",
       "      <th>0</th>\n",
       "      <td>1</td>\n",
       "      <td>0.0</td>\n",
       "      <td>3</td>\n",
       "      <td>0</td>\n",
       "      <td>0.0</td>\n",
       "      <td>0</td>\n",
       "      <td>2</td>\n",
       "      <td>1</td>\n",
       "      <td>0</td>\n",
       "      <td>1</td>\n",
       "      <td>0</td>\n",
       "      <td>0.0</td>\n",
       "      <td>1</td>\n",
       "    </tr>\n",
       "    <tr>\n",
       "      <th>1</th>\n",
       "      <td>2</td>\n",
       "      <td>1.0</td>\n",
       "      <td>1</td>\n",
       "      <td>1</td>\n",
       "      <td>2.0</td>\n",
       "      <td>0</td>\n",
       "      <td>2</td>\n",
       "      <td>1</td>\n",
       "      <td>0</td>\n",
       "      <td>5</td>\n",
       "      <td>1</td>\n",
       "      <td>0.5</td>\n",
       "      <td>5</td>\n",
       "    </tr>\n",
       "    <tr>\n",
       "      <th>2</th>\n",
       "      <td>3</td>\n",
       "      <td>1.0</td>\n",
       "      <td>3</td>\n",
       "      <td>1</td>\n",
       "      <td>0.0</td>\n",
       "      <td>0</td>\n",
       "      <td>2</td>\n",
       "      <td>0</td>\n",
       "      <td>1</td>\n",
       "      <td>1</td>\n",
       "      <td>0</td>\n",
       "      <td>0.5</td>\n",
       "      <td>4</td>\n",
       "    </tr>\n",
       "    <tr>\n",
       "      <th>3</th>\n",
       "      <td>4</td>\n",
       "      <td>1.0</td>\n",
       "      <td>1</td>\n",
       "      <td>1</td>\n",
       "      <td>0.0</td>\n",
       "      <td>0</td>\n",
       "      <td>2</td>\n",
       "      <td>1</td>\n",
       "      <td>0</td>\n",
       "      <td>5</td>\n",
       "      <td>1</td>\n",
       "      <td>0.0</td>\n",
       "      <td>5</td>\n",
       "    </tr>\n",
       "    <tr>\n",
       "      <th>4</th>\n",
       "      <td>5</td>\n",
       "      <td>0.0</td>\n",
       "      <td>3</td>\n",
       "      <td>0</td>\n",
       "      <td>0.0</td>\n",
       "      <td>0</td>\n",
       "      <td>2</td>\n",
       "      <td>0</td>\n",
       "      <td>1</td>\n",
       "      <td>1</td>\n",
       "      <td>0</td>\n",
       "      <td>0.5</td>\n",
       "      <td>1</td>\n",
       "    </tr>\n",
       "  </tbody>\n",
       "</table>\n",
       "</div>"
      ],
      "text/plain": [
       "   PassengerId  Survived  Pclass  Sex  Embarked  Test  Generation  FamilySize  \\\n",
       "0            1       0.0       3    0       0.0     0           2           1   \n",
       "1            2       1.0       1    1       2.0     0           2           1   \n",
       "2            3       1.0       3    1       0.0     0           2           0   \n",
       "3            4       1.0       1    1       0.0     0           2           1   \n",
       "4            5       0.0       3    0       0.0     0           2           0   \n",
       "\n",
       "   IsAlone  FareRange  HasCabin  FamilyDeath  TitleNumber  \n",
       "0        0          1         0          0.0            1  \n",
       "1        0          5         1          0.5            5  \n",
       "2        1          1         0          0.5            4  \n",
       "3        0          5         1          0.0            5  \n",
       "4        1          1         0          0.5            1  "
      ]
     },
     "execution_count": 18,
     "metadata": {},
     "output_type": "execute_result"
    }
   ],
   "source": [
    "drop_columns = ['Name', 'Age', 'SibSp', 'Parch', 'Fare', 'Ticket', 'Cabin', 'Title', 'LastName']\n",
    "\n",
    "all_data.drop(columns=drop_columns, inplace=True)\n",
    "all_data.head()"
   ]
  },
  {
   "cell_type": "markdown",
   "metadata": {},
   "source": [
    "## Evaluation 1st."
   ]
  },
  {
   "cell_type": "code",
   "execution_count": 19,
   "metadata": {},
   "outputs": [],
   "source": [
    "test_group = all_data.groupby('Test')\n",
    "\n",
    "train_y = test_group.get_group(0)['Survived']\n",
    "train_y = train_y.astype({'Survived': int})\n",
    "\n",
    "train_x = test_group.get_group(0).drop(columns=['Test', 'Survived'])\n",
    "test_x = test_group.get_group(1).drop(columns=['Test', 'Survived'])"
   ]
  },
  {
   "cell_type": "code",
   "execution_count": 20,
   "metadata": {},
   "outputs": [
    {
     "name": "stdout",
     "output_type": "stream",
     "text": [
      "Score:0.8373\n"
     ]
    },
    {
     "data": {
      "text/plain": [
       "<matplotlib.axes._subplots.AxesSubplot at 0x7fccad6c9dd0>"
      ]
     },
     "execution_count": 20,
     "metadata": {},
     "output_type": "execute_result"
    },
    {
     "data": {
      "image/png": "[encoded data removed]",
      "text/plain": [
       "<Figure size 432x288 with 1 Axes>"
      ]
     },
     "metadata": {
      "needs_background": "light"
     },
     "output_type": "display_data"
    }
   ],
   "source": [
    "from sklearn.ensemble import RandomForestClassifier\n",
    "from sklearn.model_selection import KFold, StratifiedKFold, cross_val_score\n",
    "\n",
    "# Trainning with cross validation and and score calculation\n",
    "model = RandomForestClassifier(n_estimators=100, max_depth=5, random_state=1)\n",
    "kf = StratifiedKFold(n_splits=5, shuffle=True, random_state=1)\n",
    "result = cross_val_score(model, train_x, train_y, cv=kf, scoring='accuracy')\n",
    "print('Score:{0:.4f}'.format(result.mean()))\n",
    "\n",
    "# Evaluation of features\n",
    "#model = RandomForestClassifier(n_estimators=100, max_depth=5, random_state=1)\n",
    "model.fit(train_x, train_y)\n",
    "\n",
    "importances = model.feature_importances_\n",
    "columns = train_x.columns\n",
    "\n",
    "feature_importances = pd.DataFrame(importances, index=train_x.columns, columns=['Importance'])\n",
    "feature_importances = feature_importances.sort_values(by='Importance', ascending=False)\n",
    "feature_importances.plot.bar()"
   ]
  },
  {
   "cell_type": "markdown",
   "metadata": {},
   "source": [
    "## Remove invalid features"
   ]
  },
  {
   "cell_type": "code",
   "execution_count": 21,
   "metadata": {},
   "outputs": [
    {
     "data": {
      "text/html": [
       "<div>\n",
       "<style scoped>\n",
       "    .dataframe tbody tr th:only-of-type {\n",
       "        vertical-align: middle;\n",
       "    }\n",
       "\n",
       "    .dataframe tbody tr th {\n",
       "        vertical-align: top;\n",
       "    }\n",
       "\n",
       "    .dataframe thead th {\n",
       "        text-align: right;\n",
       "    }\n",
       "</style>\n",
       "<table border=\"1\" class=\"dataframe\">\n",
       "  <thead>\n",
       "    <tr style=\"text-align: right;\">\n",
       "      <th></th>\n",
       "      <th>Survived</th>\n",
       "      <th>Pclass</th>\n",
       "      <th>Sex</th>\n",
       "      <th>Test</th>\n",
       "      <th>FamilySize</th>\n",
       "      <th>FareRange</th>\n",
       "      <th>HasCabin</th>\n",
       "      <th>FamilyDeath</th>\n",
       "      <th>TitleNumber</th>\n",
       "    </tr>\n",
       "  </thead>\n",
       "  <tbody>\n",
       "    <tr>\n",
       "      <th>0</th>\n",
       "      <td>0.0</td>\n",
       "      <td>3</td>\n",
       "      <td>0</td>\n",
       "      <td>0</td>\n",
       "      <td>1</td>\n",
       "      <td>1</td>\n",
       "      <td>0</td>\n",
       "      <td>0.0</td>\n",
       "      <td>1</td>\n",
       "    </tr>\n",
       "    <tr>\n",
       "      <th>1</th>\n",
       "      <td>1.0</td>\n",
       "      <td>1</td>\n",
       "      <td>1</td>\n",
       "      <td>0</td>\n",
       "      <td>1</td>\n",
       "      <td>5</td>\n",
       "      <td>1</td>\n",
       "      <td>0.5</td>\n",
       "      <td>5</td>\n",
       "    </tr>\n",
       "    <tr>\n",
       "      <th>2</th>\n",
       "      <td>1.0</td>\n",
       "      <td>3</td>\n",
       "      <td>1</td>\n",
       "      <td>0</td>\n",
       "      <td>0</td>\n",
       "      <td>1</td>\n",
       "      <td>0</td>\n",
       "      <td>0.5</td>\n",
       "      <td>4</td>\n",
       "    </tr>\n",
       "    <tr>\n",
       "      <th>3</th>\n",
       "      <td>1.0</td>\n",
       "      <td>1</td>\n",
       "      <td>1</td>\n",
       "      <td>0</td>\n",
       "      <td>1</td>\n",
       "      <td>5</td>\n",
       "      <td>1</td>\n",
       "      <td>0.0</td>\n",
       "      <td>5</td>\n",
       "    </tr>\n",
       "    <tr>\n",
       "      <th>4</th>\n",
       "      <td>0.0</td>\n",
       "      <td>3</td>\n",
       "      <td>0</td>\n",
       "      <td>0</td>\n",
       "      <td>0</td>\n",
       "      <td>1</td>\n",
       "      <td>0</td>\n",
       "      <td>0.5</td>\n",
       "      <td>1</td>\n",
       "    </tr>\n",
       "  </tbody>\n",
       "</table>\n",
       "</div>"
      ],
      "text/plain": [
       "   Survived  Pclass  Sex  Test  FamilySize  FareRange  HasCabin  FamilyDeath  \\\n",
       "0       0.0       3    0     0           1          1         0          0.0   \n",
       "1       1.0       1    1     0           1          5         1          0.5   \n",
       "2       1.0       3    1     0           0          1         0          0.5   \n",
       "3       1.0       1    1     0           1          5         1          0.0   \n",
       "4       0.0       3    0     0           0          1         0          0.5   \n",
       "\n",
       "   TitleNumber  \n",
       "0            1  \n",
       "1            5  \n",
       "2            4  \n",
       "3            5  \n",
       "4            1  "
      ]
     },
     "execution_count": 21,
     "metadata": {},
     "output_type": "execute_result"
    }
   ],
   "source": [
    "drop_columns = ['PassengerId', 'Generation', 'Embarked', 'IsAlone']\n",
    "\n",
    "all_data.drop(columns=drop_columns, inplace=True)\n",
    "all_data.head()"
   ]
  },
  {
   "cell_type": "markdown",
   "metadata": {},
   "source": [
    "## Evaluation 2nd."
   ]
  },
  {
   "cell_type": "code",
   "execution_count": 22,
   "metadata": {},
   "outputs": [],
   "source": [
    "test_group = all_data.groupby('Test')\n",
    "\n",
    "train_y = test_group.get_group(0)['Survived']\n",
    "train_y = train_y.astype({'Survived': int})\n",
    "\n",
    "train_x = test_group.get_group(0).drop(columns=['Test', 'Survived'])\n",
    "test_x = test_group.get_group(1).drop(columns=['Test', 'Survived'])"
   ]
  },
  {
   "cell_type": "code",
   "execution_count": 23,
   "metadata": {},
   "outputs": [],
   "source": [
    "#params = {'max_depth':2, 'eta':1, 'objective':'binary:logistic', 'verbosity': 1}\n",
    "params = {'objective':'binary:logistic', 'verbosity': 0}\n",
    "num_round=10"
   ]
  },
  {
   "cell_type": "code",
   "execution_count": 24,
   "metadata": {},
   "outputs": [
    {
     "name": "stdout",
     "output_type": "stream",
     "text": [
      "==============================\n",
      "[0]\ttrain-error:0.14045\teval-error:0.17318\n",
      "Multiple eval metrics have been passed: 'eval-error' will be used for early stopping.\n",
      "\n",
      "Will train until eval-error hasn't improved in 2 rounds.\n",
      "[1]\ttrain-error:0.14045\teval-error:0.17318\n",
      "[2]\ttrain-error:0.14045\teval-error:0.17318\n",
      "Stopping. Best iteration:\n",
      "[0]\ttrain-error:0.14045\teval-error:0.17318\n",
      "\n",
      " 0: Score:0.8268\n",
      "==============================\n",
      "[0]\ttrain-error:0.14727\teval-error:0.14607\n",
      "Multiple eval metrics have been passed: 'eval-error' will be used for early stopping.\n",
      "\n",
      "Will train until eval-error hasn't improved in 2 rounds.\n",
      "[1]\ttrain-error:0.14446\teval-error:0.15168\n",
      "[2]\ttrain-error:0.14586\teval-error:0.14607\n",
      "Stopping. Best iteration:\n",
      "[0]\ttrain-error:0.14727\teval-error:0.14607\n",
      "\n",
      " 1: Score:0.8539\n",
      "==============================\n",
      "[0]\ttrain-error:0.13885\teval-error:0.16854\n",
      "Multiple eval metrics have been passed: 'eval-error' will be used for early stopping.\n",
      "\n",
      "Will train until eval-error hasn't improved in 2 rounds.\n",
      "[1]\ttrain-error:0.13604\teval-error:0.16854\n",
      "[2]\ttrain-error:0.13745\teval-error:0.17416\n",
      "Stopping. Best iteration:\n",
      "[0]\ttrain-error:0.13885\teval-error:0.16854\n",
      "\n",
      " 2: Score:0.8258\n",
      "==============================\n",
      "[0]\ttrain-error:0.13604\teval-error:0.19663\n",
      "Multiple eval metrics have been passed: 'eval-error' will be used for early stopping.\n",
      "\n",
      "Will train until eval-error hasn't improved in 2 rounds.\n",
      "[1]\ttrain-error:0.13324\teval-error:0.19101\n",
      "[2]\ttrain-error:0.13324\teval-error:0.19101\n",
      "[3]\ttrain-error:0.13324\teval-error:0.19101\n",
      "Stopping. Best iteration:\n",
      "[1]\ttrain-error:0.13324\teval-error:0.19101\n",
      "\n",
      " 3: Score:0.8090\n",
      "==============================\n",
      "[0]\ttrain-error:0.15288\teval-error:0.13483\n",
      "Multiple eval metrics have been passed: 'eval-error' will be used for early stopping.\n",
      "\n",
      "Will train until eval-error hasn't improved in 2 rounds.\n",
      "[1]\ttrain-error:0.15147\teval-error:0.13483\n",
      "[2]\ttrain-error:0.15007\teval-error:0.14045\n",
      "Stopping. Best iteration:\n",
      "[0]\ttrain-error:0.15288\teval-error:0.13483\n",
      "\n",
      " 4: Score:0.8596\n"
     ]
    },
    {
     "data": {
      "text/plain": [
       "<matplotlib.axes._subplots.AxesSubplot at 0x7fccad76db10>"
      ]
     },
     "execution_count": 24,
     "metadata": {},
     "output_type": "execute_result"
    },
    {
     "data": {
      "image/png": "[encoded data removed]",
      "text/plain": [
       "<Figure size 432x288 with 1 Axes>"
      ]
     },
     "metadata": {
      "needs_background": "light"
     },
     "output_type": "display_data"
    }
   ],
   "source": [
    "from sklearn.model_selection import StratifiedKFold\n",
    "from sklearn.metrics import accuracy_score\n",
    "import xgboost as xgb\n",
    "\n",
    "# Trainning with cross validation and and score calculation\n",
    "kf = StratifiedKFold(n_splits=5, shuffle=True, random_state=1)\n",
    "count = 0\n",
    "for tr_idx, va_idx in kf.split(train_x, train_y):\n",
    "    print(\"==============================\")\n",
    "    \n",
    "    tr_x, va_x = train_x.iloc[tr_idx], train_x.iloc[va_idx]\n",
    "    tr_y, va_y = train_y.iloc[tr_idx], train_y.iloc[va_idx]\n",
    "    \n",
    "    dtrain = xgb.DMatrix(tr_x, label=tr_y)\n",
    "    dvalid = xgb.DMatrix(va_x, label=va_y)\n",
    "    \n",
    "    watchlist=[(dtrain,'train'),(dvalid,'eval')]\n",
    "    #watchlist=[(dvalid,'eval')]\n",
    "    \n",
    "    model = xgb.train(\n",
    "        params, dtrain, num_boost_round=num_round,\n",
    "        early_stopping_rounds=2, evals=watchlist)\n",
    "    \n",
    "    va_pred = model.predict(dvalid)\n",
    "    score = accuracy_score(va_y, va_pred.round())\n",
    "    print('{0:2d}: Score:{1:.4f}'.format(count, score))\n",
    "    \n",
    "    count += 1\n",
    "    \n",
    "# Evaluation of features\n",
    "dtrain = xgb.DMatrix(train_x, label=train_y)\n",
    "model = xgb.train(params, dtrain, num_boost_round=num_round)\n",
    "xgb.plot_importance(model)"
   ]
  },
  {
   "cell_type": "markdown",
   "metadata": {},
   "source": [
    "## Output submission file"
   ]
  },
  {
   "cell_type": "code",
   "execution_count": 25,
   "metadata": {},
   "outputs": [],
   "source": [
    "# Prediction\n",
    "dest = xgb.DMatrix(test_x)\n",
    "predictions = model.predict(dest)\n",
    "\n",
    "# Output result to csv.\n",
    "output = pd.DataFrame({'PassengerId': test_data.PassengerId, 'Survived': predictions.round()})\n",
    "output = output.astype( {'Survived': 'Int64'} )\n",
    "output.to_csv('my_submission.csv', index=False)"
   ]
  },
  {
   "cell_type": "markdown",
   "metadata": {},
   "source": [
    "## Evaluation 3rd."
   ]
  },
  {
   "cell_type": "code",
   "execution_count": 26,
   "metadata": {},
   "outputs": [],
   "source": [
    "test_group = all_data.groupby('Test')\n",
    "\n",
    "train_y = test_group.get_group(0)['Survived']\n",
    "train_y = train_y.astype({'Survived': int})\n",
    "\n",
    "train_x = test_group.get_group(0).drop(columns=['Test', 'Survived'])\n",
    "test_x = test_group.get_group(1).drop(columns=['Test', 'Survived'])"
   ]
  },
  {
   "cell_type": "code",
   "execution_count": 82,
   "metadata": {},
   "outputs": [],
   "source": [
    "#params = {'eta': [0.01, 0.02, 0.03, 0.04, 0.05, 0.06, 0.07, 0.08, 0.09, 0.10], \n",
    "#          'n_estimators': [10, 20, 40, 50, 60, 70, 80, 90, 100, 110, 120]}\n",
    "params = {'eta': [0.04], 'n_estimators': [110], 'max_depth':[2, 3, 4, 5, 6, 7], 'min_samples_split': [2, 3, 4, 5, 6, 7]}\n",
    "params = {'eta': [0.04], 'n_estimators': [100], 'max_depth':[2], 'min_samples_split': [2], \n",
    "#          'min_samples_leaf': [2, 3, 5, 7, 11, 13, 17, 19, 23, 31]}\n",
    "#params = {'eta': [0.05], 'n_estimators': [100], 'max_depth':[2], 'min_samples_split': [2], \n",
    "#          'min_samples_leaf': [2], 'subsample': [0.8, 0.9, 1.0] }"
   ]
  },
  {
   "cell_type": "code",
   "execution_count": 83,
   "metadata": {},
   "outputs": [
    {
     "name": "stdout",
     "output_type": "stream",
     "text": [
      "Fitting 5 folds for each of 36 candidates, totalling 180 fits\n"
     ]
    },
    {
     "name": "stderr",
     "output_type": "stream",
     "text": [
      "[Parallel(n_jobs=1)]: Using backend SequentialBackend with 1 concurrent workers.\n",
      "[Parallel(n_jobs=1)]: Done 180 out of 180 | elapsed:    8.3s finished\n"
     ]
    },
    {
     "data": {
      "text/plain": [
       "GridSearchCV(cv=5, error_score=nan,\n",
       "             estimator=XGBClassifier(base_score=None, booster=None,\n",
       "                                     colsample_bylevel=None,\n",
       "                                     colsample_bynode=None,\n",
       "                                     colsample_bytree=None, gamma=None,\n",
       "                                     gpu_id=None, importance_type='gain',\n",
       "                                     interaction_constraints=None,\n",
       "                                     learning_rate=None, max_delta_step=None,\n",
       "                                     max_depth=None, min_child_weight=None,\n",
       "                                     missing=nan, monotone_constraints=None,\n",
       "                                     n_estim...\n",
       "                                     random_state=None, reg_alpha=None,\n",
       "                                     reg_lambda=None, scale_pos_weight=None,\n",
       "                                     subsample=None, tree_method=None,\n",
       "                                     validate_parameters=False,\n",
       "                                     verbosity=None),\n",
       "             iid='deprecated', n_jobs=1,\n",
       "             param_grid={'eta': [0.04], 'max_depth': [2, 3, 4, 5, 6, 7],\n",
       "                         'min_samples_split': [2, 3, 4, 5, 6, 7],\n",
       "                         'n_estimators': [110]},\n",
       "             pre_dispatch='2*n_jobs', refit=True, return_train_score=False,\n",
       "             scoring='accuracy', verbose=1)"
      ]
     },
     "execution_count": 83,
     "metadata": {},
     "output_type": "execute_result"
    }
   ],
   "source": [
    "from sklearn.model_selection import GridSearchCV\n",
    "from sklearn.metrics import accuracy_score\n",
    "import xgboost as xgb\n",
    "\n",
    "model = xgb.XGBClassifier()\n",
    "gs = GridSearchCV(model, params, cv=5, scoring=\"accuracy\", n_jobs=1, verbose=1)\n",
    "gs.fit(train_x, train_y)"
   ]
  },
  {
   "cell_type": "code",
   "execution_count": 85,
   "metadata": {},
   "outputs": [
    {
     "name": "stdout",
     "output_type": "stream",
     "text": [
      "{'eta': 0.04, 'max_depth': 2, 'min_samples_split': 2, 'n_estimators': 110}\n"
     ]
    }
   ],
   "source": [
    "#print(gs.cv_results_['mean_test_score'])\n",
    "#print(gs.best_estimator_)\n",
    "print(gs.best_params_)"
   ]
  },
  {
   "cell_type": "code",
   "execution_count": 86,
   "metadata": {},
   "outputs": [
    {
     "name": "stdout",
     "output_type": "stream",
     "text": [
      "0.8495825748540582\n"
     ]
    }
   ],
   "source": [
    "print(gs.best_score_)    "
   ]
  },
  {
   "cell_type": "code",
   "execution_count": 66,
   "metadata": {},
   "outputs": [
    {
     "data": {
      "text/plain": [
       "XGBClassifier(base_score=0.5, booster=None, colsample_bylevel=1,\n",
       "              colsample_bynode=1, colsample_bytree=1, eta=0.05, gamma=0,\n",
       "              gpu_id=-1, importance_type='gain', interaction_constraints=None,\n",
       "              learning_rate=0.0500000007, max_delta_step=0, max_depth=6,\n",
       "              min_child_weight=1, missing=nan, monotone_constraints=None,\n",
       "              n_estimators=100, n_jobs=0, num_parallel_tree=1,\n",
       "              objective='binary:logistic', random_state=0, reg_alpha=0,\n",
       "              reg_lambda=1, scale_pos_weight=1, subsample=1, tree_method=None,\n",
       "              validate_parameters=False, verbosity=None)"
      ]
     },
     "execution_count": 66,
     "metadata": {},
     "output_type": "execute_result"
    }
   ],
   "source": [
    "model = gs.best_estimator_\n",
    "model.fit(train_x, train_y)"
   ]
  },
  {
   "cell_type": "markdown",
   "metadata": {},
   "source": [
    "## Output submission file"
   ]
  },
  {
   "cell_type": "code",
   "execution_count": 58,
   "metadata": {},
   "outputs": [],
   "source": [
    "# Prediction\n",
    "predictions = model.predict(test_x)\n",
    "\n",
    "# Output result to csv.\n",
    "output = pd.DataFrame({'PassengerId': test_data.PassengerId, 'Survived': predictions})\n",
    "output.to_csv('my_submission.csv', index=False)"
   ]
  },
  {
   "cell_type": "code",
   "execution_count": null,
   "metadata": {},
   "outputs": [],
   "source": []
  }
 ],
 "metadata": {
  "kernelspec": {
   "display_name": "Python 3",
   "language": "python",
   "name": "python3"
  },
  "language_info": {
   "codemirror_mode": {
    "name": "ipython",
    "version": 3
   },
   "file_extension": ".py",
   "mimetype": "text/x-python",
   "name": "python",
   "nbconvert_exporter": "python",
   "pygments_lexer": "ipython3",
   "version": "3.7.6"
  }
 },
 "nbformat": 4,
 "nbformat_minor": 4
}
